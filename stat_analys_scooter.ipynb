{
 "cells": [
  {
   "cell_type": "markdown",
   "id": "25bce365",
   "metadata": {},
   "source": [
    "# Исследование экономической выгоды от пользователей с подпиской по месяцам и пользователей без подписки\n",
    "\n",
    "В нашем распоряжении данные сервиса аренды самокатов GoFast -  данные о некоторых пользователях из нескольких городов, а также об их поездках. Проанализируем данные и проверим некоторые гипотезы, которые могут помочь бизнесу вырасти.\n",
    "\n",
    "Чтобы совершать поездки по городу, пользователи сервиса GoFast пользуются мобильным приложением. \n",
    "\n",
    "Сервисом можно пользоваться:\n",
    "- без подписки\n",
    "    - абонентская плата отсутствует;\n",
    "    - стоимость одной минуты поездки — 8 рублей;\n",
    "    - стоимость старта (начала поездки) — 50 рублей;\n",
    "    \n",
    "- с подпиской Ultra\n",
    "    - абонентская плата — 199 рублей в месяц;\n",
    "    - стоимость одной минуты поездки — 6 рублей;\n",
    "    - стоимость старта — бесплатно.\n",
    "\n",
    "Важно понять, тратят ли пользователи с подпиской больше времени на поездки? Если да, то пользователи с подпиской могут быть «выгоднее» для компании. \n",
    "\n",
    "3130 метров — оптимальное с точки зрения износа самоката. Проверим среднее расстояние, которое проезжают пользователи с подпиской за одну поездку, не превышает ли оно 3130 метров? \n",
    "\n",
    "Проверьте гипотезу о том, будет ли помесячная выручка от пользователей с подпиской по месяцам выше, чем выручка от пользователей без подписки. \n",
    "\n",
    "Проверим, снизилось ли колисество обращений в техническую поддержку после обновления сервера, с которым взаимодействует мобильное приложение. \n"
   ]
  },
  {
   "cell_type": "code",
   "execution_count": 1,
   "id": "72576667",
   "metadata": {},
   "outputs": [],
   "source": [
    "#Загрузим библиотеки\n",
    "import pandas as pd\n",
    "import matplotlib.pyplot as plt \n",
    "import numpy as np\n",
    "import seaborn as sns\n",
    "import scipy.stats as st\n",
    "from math import factorial\n",
    "from scipy.stats import binom, norm\n",
    "\n",
    "sns.set_theme(palette='Set2', style='whitegrid')"
   ]
  },
  {
   "cell_type": "markdown",
   "id": "c42cbe00",
   "metadata": {},
   "source": [
    "### Знакомство с данными"
   ]
  },
  {
   "cell_type": "code",
   "execution_count": 2,
   "id": "eff9f206",
   "metadata": {},
   "outputs": [
    {
     "name": "stdout",
     "output_type": "stream",
     "text": [
      "Пользователи\n"
     ]
    },
    {
     "data": {
      "text/html": [
       "<div>\n",
       "<style scoped>\n",
       "    .dataframe tbody tr th:only-of-type {\n",
       "        vertical-align: middle;\n",
       "    }\n",
       "\n",
       "    .dataframe tbody tr th {\n",
       "        vertical-align: top;\n",
       "    }\n",
       "\n",
       "    .dataframe thead th {\n",
       "        text-align: right;\n",
       "    }\n",
       "</style>\n",
       "<table border=\"1\" class=\"dataframe\">\n",
       "  <thead>\n",
       "    <tr style=\"text-align: right;\">\n",
       "      <th></th>\n",
       "      <th>user_id</th>\n",
       "      <th>name</th>\n",
       "      <th>age</th>\n",
       "      <th>city</th>\n",
       "      <th>subscription_type</th>\n",
       "    </tr>\n",
       "  </thead>\n",
       "  <tbody>\n",
       "    <tr>\n",
       "      <th>0</th>\n",
       "      <td>1</td>\n",
       "      <td>Кира</td>\n",
       "      <td>22</td>\n",
       "      <td>Тюмень</td>\n",
       "      <td>ultra</td>\n",
       "    </tr>\n",
       "    <tr>\n",
       "      <th>1</th>\n",
       "      <td>2</td>\n",
       "      <td>Станислав</td>\n",
       "      <td>31</td>\n",
       "      <td>Омск</td>\n",
       "      <td>ultra</td>\n",
       "    </tr>\n",
       "    <tr>\n",
       "      <th>2</th>\n",
       "      <td>3</td>\n",
       "      <td>Алексей</td>\n",
       "      <td>20</td>\n",
       "      <td>Москва</td>\n",
       "      <td>ultra</td>\n",
       "    </tr>\n",
       "    <tr>\n",
       "      <th>3</th>\n",
       "      <td>4</td>\n",
       "      <td>Константин</td>\n",
       "      <td>26</td>\n",
       "      <td>Ростов-на-Дону</td>\n",
       "      <td>ultra</td>\n",
       "    </tr>\n",
       "    <tr>\n",
       "      <th>4</th>\n",
       "      <td>5</td>\n",
       "      <td>Адель</td>\n",
       "      <td>28</td>\n",
       "      <td>Омск</td>\n",
       "      <td>ultra</td>\n",
       "    </tr>\n",
       "  </tbody>\n",
       "</table>\n",
       "</div>"
      ],
      "text/plain": [
       "   user_id        name  age            city subscription_type\n",
       "0        1        Кира   22          Тюмень             ultra\n",
       "1        2   Станислав   31            Омск             ultra\n",
       "2        3     Алексей   20          Москва             ultra\n",
       "3        4  Константин   26  Ростов-на-Дону             ultra\n",
       "4        5       Адель   28            Омск             ultra"
      ]
     },
     "metadata": {},
     "output_type": "display_data"
    },
    {
     "name": "stdout",
     "output_type": "stream",
     "text": [
      "Поездки\n"
     ]
    },
    {
     "data": {
      "text/html": [
       "<div>\n",
       "<style scoped>\n",
       "    .dataframe tbody tr th:only-of-type {\n",
       "        vertical-align: middle;\n",
       "    }\n",
       "\n",
       "    .dataframe tbody tr th {\n",
       "        vertical-align: top;\n",
       "    }\n",
       "\n",
       "    .dataframe thead th {\n",
       "        text-align: right;\n",
       "    }\n",
       "</style>\n",
       "<table border=\"1\" class=\"dataframe\">\n",
       "  <thead>\n",
       "    <tr style=\"text-align: right;\">\n",
       "      <th></th>\n",
       "      <th>user_id</th>\n",
       "      <th>distance</th>\n",
       "      <th>duration</th>\n",
       "      <th>date</th>\n",
       "    </tr>\n",
       "  </thead>\n",
       "  <tbody>\n",
       "    <tr>\n",
       "      <th>0</th>\n",
       "      <td>1</td>\n",
       "      <td>4409.919140</td>\n",
       "      <td>25.599769</td>\n",
       "      <td>2021-01-01</td>\n",
       "    </tr>\n",
       "    <tr>\n",
       "      <th>1</th>\n",
       "      <td>1</td>\n",
       "      <td>2617.592153</td>\n",
       "      <td>15.816871</td>\n",
       "      <td>2021-01-18</td>\n",
       "    </tr>\n",
       "    <tr>\n",
       "      <th>2</th>\n",
       "      <td>1</td>\n",
       "      <td>754.159807</td>\n",
       "      <td>6.232113</td>\n",
       "      <td>2021-04-20</td>\n",
       "    </tr>\n",
       "    <tr>\n",
       "      <th>3</th>\n",
       "      <td>1</td>\n",
       "      <td>2694.783254</td>\n",
       "      <td>18.511000</td>\n",
       "      <td>2021-08-11</td>\n",
       "    </tr>\n",
       "    <tr>\n",
       "      <th>4</th>\n",
       "      <td>1</td>\n",
       "      <td>4028.687306</td>\n",
       "      <td>26.265803</td>\n",
       "      <td>2021-08-28</td>\n",
       "    </tr>\n",
       "  </tbody>\n",
       "</table>\n",
       "</div>"
      ],
      "text/plain": [
       "   user_id     distance   duration        date\n",
       "0        1  4409.919140  25.599769  2021-01-01\n",
       "1        1  2617.592153  15.816871  2021-01-18\n",
       "2        1   754.159807   6.232113  2021-04-20\n",
       "3        1  2694.783254  18.511000  2021-08-11\n",
       "4        1  4028.687306  26.265803  2021-08-28"
      ]
     },
     "metadata": {},
     "output_type": "display_data"
    },
    {
     "name": "stdout",
     "output_type": "stream",
     "text": [
      "Подписка\n"
     ]
    },
    {
     "data": {
      "text/html": [
       "<div>\n",
       "<style scoped>\n",
       "    .dataframe tbody tr th:only-of-type {\n",
       "        vertical-align: middle;\n",
       "    }\n",
       "\n",
       "    .dataframe tbody tr th {\n",
       "        vertical-align: top;\n",
       "    }\n",
       "\n",
       "    .dataframe thead th {\n",
       "        text-align: right;\n",
       "    }\n",
       "</style>\n",
       "<table border=\"1\" class=\"dataframe\">\n",
       "  <thead>\n",
       "    <tr style=\"text-align: right;\">\n",
       "      <th></th>\n",
       "      <th>subscription_type</th>\n",
       "      <th>minute_price</th>\n",
       "      <th>start_ride_price</th>\n",
       "      <th>subscription_fee</th>\n",
       "    </tr>\n",
       "  </thead>\n",
       "  <tbody>\n",
       "    <tr>\n",
       "      <th>0</th>\n",
       "      <td>free</td>\n",
       "      <td>8</td>\n",
       "      <td>50</td>\n",
       "      <td>0</td>\n",
       "    </tr>\n",
       "    <tr>\n",
       "      <th>1</th>\n",
       "      <td>ultra</td>\n",
       "      <td>6</td>\n",
       "      <td>0</td>\n",
       "      <td>199</td>\n",
       "    </tr>\n",
       "  </tbody>\n",
       "</table>\n",
       "</div>"
      ],
      "text/plain": [
       "  subscription_type  minute_price  start_ride_price  subscription_fee\n",
       "0              free             8                50                 0\n",
       "1             ultra             6                 0               199"
      ]
     },
     "metadata": {},
     "output_type": "display_data"
    }
   ],
   "source": [
    "# откроем датасеты\n",
    "try:\n",
    "    users = pd.read_csv('assets/users_go.csv') # информация о пользователях\n",
    "    rides = pd.read_csv('assets/rides_go.csv') # информация о поездках\n",
    "    # данные о подписках\n",
    "    subscriptions = pd.read_csv('assets/subscriptions_go.csv') \n",
    "except:\n",
    "    users = pd.read_csv('/datasets/users_go.csv') \n",
    "    rides = pd.read_csv('/datasets/rides_go.csv') \n",
    "    subscriptions = pd.read_csv('/datasets/subscriptions_go.csv')\n",
    "    \n",
    "pd.set_option(\"display.max_columns\", None)\n",
    "\n",
    "print('Пользователи')\n",
    "display(users.head(5))\n",
    "print('Поездки')\n",
    "display(rides.head(5))\n",
    "print('Подписка')\n",
    "display(subscriptions.head(5))"
   ]
  },
  {
   "cell_type": "code",
   "execution_count": 3,
   "id": "17e68225",
   "metadata": {},
   "outputs": [
    {
     "name": "stdout",
     "output_type": "stream",
     "text": [
      "Пользователи \n",
      "\n",
      "<class 'pandas.core.frame.DataFrame'>\n",
      "RangeIndex: 1565 entries, 0 to 1564\n",
      "Data columns (total 5 columns):\n",
      " #   Column             Non-Null Count  Dtype \n",
      "---  ------             --------------  ----- \n",
      " 0   user_id            1565 non-null   int64 \n",
      " 1   name               1565 non-null   object\n",
      " 2   age                1565 non-null   int64 \n",
      " 3   city               1565 non-null   object\n",
      " 4   subscription_type  1565 non-null   object\n",
      "dtypes: int64(2), object(3)\n",
      "memory usage: 61.3+ KB\n",
      "None\n",
      "************************************************************ \n",
      "\n",
      "Поездки \n",
      "\n",
      "<class 'pandas.core.frame.DataFrame'>\n",
      "RangeIndex: 18068 entries, 0 to 18067\n",
      "Data columns (total 4 columns):\n",
      " #   Column    Non-Null Count  Dtype  \n",
      "---  ------    --------------  -----  \n",
      " 0   user_id   18068 non-null  int64  \n",
      " 1   distance  18068 non-null  float64\n",
      " 2   duration  18068 non-null  float64\n",
      " 3   date      18068 non-null  object \n",
      "dtypes: float64(2), int64(1), object(1)\n",
      "memory usage: 564.8+ KB\n",
      "None\n",
      "************************************************************ \n",
      "\n",
      "Подписка \n",
      "\n",
      "<class 'pandas.core.frame.DataFrame'>\n",
      "RangeIndex: 2 entries, 0 to 1\n",
      "Data columns (total 4 columns):\n",
      " #   Column             Non-Null Count  Dtype \n",
      "---  ------             --------------  ----- \n",
      " 0   subscription_type  2 non-null      object\n",
      " 1   minute_price       2 non-null      int64 \n",
      " 2   start_ride_price   2 non-null      int64 \n",
      " 3   subscription_fee   2 non-null      int64 \n",
      "dtypes: int64(3), object(1)\n",
      "memory usage: 196.0+ bytes\n",
      "None\n"
     ]
    }
   ],
   "source": [
    "# Общая информация о наборе данных, индекс, столбцы и тип данных, нулевые значения и использование памяти\n",
    "print(\"Пользователи \\n\")\n",
    "print(users.info())\n",
    "\n",
    "print('*'*60, '\\n')\n",
    "\n",
    "print('Поездки \\n')\n",
    "print(rides.info())\n",
    "\n",
    "print('*'*60, '\\n')\n",
    "\n",
    "print('Подписка \\n')\n",
    "print(subscriptions.info())"
   ]
  },
  {
   "cell_type": "code",
   "execution_count": 4,
   "id": "2c714593",
   "metadata": {},
   "outputs": [
    {
     "data": {
      "text/plain": [
       "user_id              0\n",
       "name                 0\n",
       "age                  0\n",
       "city                 0\n",
       "subscription_type    0\n",
       "dtype: int64"
      ]
     },
     "execution_count": 4,
     "metadata": {},
     "output_type": "execute_result"
    }
   ],
   "source": [
    "# Оценим количество пропущенных значений в каждом столбце\n",
    "users.isna().sum()"
   ]
  },
  {
   "cell_type": "code",
   "execution_count": 5,
   "id": "26b1ef43",
   "metadata": {},
   "outputs": [
    {
     "data": {
      "text/plain": [
       "user_id     0\n",
       "distance    0\n",
       "duration    0\n",
       "date        0\n",
       "dtype: int64"
      ]
     },
     "execution_count": 5,
     "metadata": {},
     "output_type": "execute_result"
    }
   ],
   "source": [
    "rides.isna().sum()"
   ]
  },
  {
   "cell_type": "code",
   "execution_count": 6,
   "id": "af5fcf05",
   "metadata": {
    "scrolled": true
   },
   "outputs": [
    {
     "data": {
      "text/plain": [
       "subscription_type    0\n",
       "minute_price         0\n",
       "start_ride_price     0\n",
       "subscription_fee     0\n",
       "dtype: int64"
      ]
     },
     "execution_count": 6,
     "metadata": {},
     "output_type": "execute_result"
    }
   ],
   "source": [
    "subscriptions.isna().sum()"
   ]
  },
  {
   "cell_type": "code",
   "execution_count": 7,
   "id": "764e167a",
   "metadata": {},
   "outputs": [
    {
     "data": {
      "image/png": "[encoded data removed]",
      "text/plain": [
       "<Figure size 1000x800 with 3 Axes>"
      ]
     },
     "metadata": {},
     "output_type": "display_data"
    }
   ],
   "source": [
    "fig, axes = plt.subplots(nrows=2, ncols=2, figsize=(10, 8)) \n",
    "axes = axes.flatten()  # Преобразуем оси в плоский массив (для удобства)\n",
    "\n",
    "# Гистограмма возраста пользователей\n",
    "sns.histplot(users['age'], ax=axes[0])\n",
    "axes[0].set_title('Распределение возраста пользователей')\n",
    "axes[0].set_ylabel('Количество')\n",
    "axes[0].set_xlabel('Возраст')\n",
    "\n",
    "\n",
    "# Гистограмма дистанции поездок\n",
    "sns.histplot(rides['distance'], ax=axes[1])\n",
    "axes[1].set_title('Распределение дистанции поездок')\n",
    "axes[1].set_ylabel('Количество')\n",
    "axes[1].set_xlabel('Дистанция, км')\n",
    "\n",
    "\n",
    "#Гистограмма длительности поездок\n",
    "sns.histplot(rides['duration'], ax=axes[2])\n",
    "axes[2].set_title('Распределение длительности поездок')\n",
    "axes[2].set_ylabel('Количество')\n",
    "axes[2].set_xlabel('Длительность поездок, мин')\n",
    "axes[3].remove() \n",
    "\n",
    "for ax in axes[:3]: \n",
    "    ax.grid(True, linestyle='--', alpha=0.5)\n",
    "plt.tight_layout() \n",
    "plt.show()\n"
   ]
  },
  {
   "cell_type": "markdown",
   "id": "18b99e54",
   "metadata": {},
   "source": [
    "Общая предварительная оценка данных:\n",
    "\n",
    "- набор данных достаточен для анализа\n",
    "- пропуски отсутсвуют\n",
    "- присутсвуют неправильные типы данных\n",
    "\n",
    "Выборка репрезентативна.\n"
   ]
  },
  {
   "cell_type": "markdown",
   "id": "e95ebca7",
   "metadata": {},
   "source": [
    "###  Предобработка данных"
   ]
  },
  {
   "cell_type": "markdown",
   "id": "c77d4ca8",
   "metadata": {},
   "source": [
    "#### Удаление дубликатов"
   ]
  },
  {
   "cell_type": "code",
   "execution_count": 8,
   "id": "85962550",
   "metadata": {},
   "outputs": [
    {
     "data": {
      "text/plain": [
       "0"
      ]
     },
     "execution_count": 8,
     "metadata": {},
     "output_type": "execute_result"
    }
   ],
   "source": [
    "rides.duplicated().sum()"
   ]
  },
  {
   "cell_type": "code",
   "execution_count": 9,
   "id": "af6d202c",
   "metadata": {},
   "outputs": [
    {
     "data": {
      "text/plain": [
       "31"
      ]
     },
     "execution_count": 9,
     "metadata": {},
     "output_type": "execute_result"
    }
   ],
   "source": [
    "users.duplicated().sum()"
   ]
  },
  {
   "cell_type": "code",
   "execution_count": 10,
   "id": "cf2a068d",
   "metadata": {},
   "outputs": [
    {
     "data": {
      "text/plain": [
       "0"
      ]
     },
     "execution_count": 10,
     "metadata": {},
     "output_type": "execute_result"
    }
   ],
   "source": [
    "# Удалими явные дубликаты в датасете users\n",
    "users = users.drop_duplicates(keep = 'first')\n",
    "users.duplicated().sum()"
   ]
  },
  {
   "cell_type": "code",
   "execution_count": 11,
   "id": "91b435df",
   "metadata": {},
   "outputs": [
    {
     "data": {
      "text/plain": [
       "array(['Тюмень', 'Омск', 'Москва', 'Ростов-на-Дону', 'Краснодар',\n",
       "       'Пятигорск', 'Екатеринбург', 'Сочи'], dtype=object)"
      ]
     },
     "execution_count": 11,
     "metadata": {},
     "output_type": "execute_result"
    }
   ],
   "source": [
    "users['city'].unique()"
   ]
  },
  {
   "cell_type": "markdown",
   "id": "8b23c0e9",
   "metadata": {},
   "source": [
    "- явные дубликаты удалены \n",
    "- неявные дубликаты отсутсвуют"
   ]
  },
  {
   "cell_type": "markdown",
   "id": "bf3eb71d",
   "metadata": {},
   "source": [
    "####  Изменение типа данных"
   ]
  },
  {
   "cell_type": "markdown",
   "id": "9c045185",
   "metadata": {},
   "source": [
    "Переведем в формат времени значение столбца date в датафрейме rides"
   ]
  },
  {
   "cell_type": "code",
   "execution_count": 12,
   "id": "b529e783",
   "metadata": {},
   "outputs": [
    {
     "name": "stdout",
     "output_type": "stream",
     "text": [
      "<class 'pandas.core.frame.DataFrame'>\n",
      "RangeIndex: 18068 entries, 0 to 18067\n",
      "Data columns (total 5 columns):\n",
      " #   Column        Non-Null Count  Dtype         \n",
      "---  ------        --------------  -----         \n",
      " 0   user_id       18068 non-null  int64         \n",
      " 1   distance      18068 non-null  float64       \n",
      " 2   duration      18068 non-null  float64       \n",
      " 3   date          18068 non-null  object        \n",
      " 4   date_of_ride  18068 non-null  datetime64[ns]\n",
      "dtypes: datetime64[ns](1), float64(2), int64(1), object(1)\n",
      "memory usage: 705.9+ KB\n"
     ]
    }
   ],
   "source": [
    "rides['date_of_ride'] = pd.to_datetime(rides['date'], format='%Y-%m-%d')\n",
    "rides.info()"
   ]
  },
  {
   "cell_type": "markdown",
   "id": "39cb8e38",
   "metadata": {},
   "source": [
    "####  Добавление новых столбцов"
   ]
  },
  {
   "cell_type": "code",
   "execution_count": 13,
   "id": "e5a30331",
   "metadata": {},
   "outputs": [
    {
     "name": "stdout",
     "output_type": "stream",
     "text": [
      "<class 'pandas.core.frame.DataFrame'>\n",
      "RangeIndex: 18068 entries, 0 to 18067\n",
      "Data columns (total 6 columns):\n",
      " #   Column        Non-Null Count  Dtype         \n",
      "---  ------        --------------  -----         \n",
      " 0   user_id       18068 non-null  int64         \n",
      " 1   distance      18068 non-null  float64       \n",
      " 2   duration      18068 non-null  float64       \n",
      " 3   date          18068 non-null  object        \n",
      " 4   date_of_ride  18068 non-null  datetime64[ns]\n",
      " 5   month         18068 non-null  int32         \n",
      "dtypes: datetime64[ns](1), float64(2), int32(1), int64(1), object(1)\n",
      "memory usage: 776.5+ KB\n"
     ]
    }
   ],
   "source": [
    "# Добавим столбец c месяцем поездки\n",
    "rides['month'] = pd.DatetimeIndex(rides['date_of_ride']).month\n",
    "rides.info()"
   ]
  },
  {
   "cell_type": "code",
   "execution_count": 14,
   "id": "8feb8ff0",
   "metadata": {},
   "outputs": [
    {
     "data": {
      "text/html": [
       "<div>\n",
       "<style scoped>\n",
       "    .dataframe tbody tr th:only-of-type {\n",
       "        vertical-align: middle;\n",
       "    }\n",
       "\n",
       "    .dataframe tbody tr th {\n",
       "        vertical-align: top;\n",
       "    }\n",
       "\n",
       "    .dataframe thead th {\n",
       "        text-align: right;\n",
       "    }\n",
       "</style>\n",
       "<table border=\"1\" class=\"dataframe\">\n",
       "  <thead>\n",
       "    <tr style=\"text-align: right;\">\n",
       "      <th></th>\n",
       "      <th>user_id</th>\n",
       "      <th>distance</th>\n",
       "      <th>duration</th>\n",
       "      <th>date</th>\n",
       "      <th>date_of_ride</th>\n",
       "      <th>month</th>\n",
       "    </tr>\n",
       "  </thead>\n",
       "  <tbody>\n",
       "    <tr>\n",
       "      <th>0</th>\n",
       "      <td>1</td>\n",
       "      <td>4409.919140</td>\n",
       "      <td>25.599769</td>\n",
       "      <td>2021-01-01</td>\n",
       "      <td>2021-01-01</td>\n",
       "      <td>1</td>\n",
       "    </tr>\n",
       "    <tr>\n",
       "      <th>1</th>\n",
       "      <td>1</td>\n",
       "      <td>2617.592153</td>\n",
       "      <td>15.816871</td>\n",
       "      <td>2021-01-18</td>\n",
       "      <td>2021-01-18</td>\n",
       "      <td>1</td>\n",
       "    </tr>\n",
       "    <tr>\n",
       "      <th>2</th>\n",
       "      <td>1</td>\n",
       "      <td>754.159807</td>\n",
       "      <td>6.232113</td>\n",
       "      <td>2021-04-20</td>\n",
       "      <td>2021-04-20</td>\n",
       "      <td>4</td>\n",
       "    </tr>\n",
       "    <tr>\n",
       "      <th>3</th>\n",
       "      <td>1</td>\n",
       "      <td>2694.783254</td>\n",
       "      <td>18.511000</td>\n",
       "      <td>2021-08-11</td>\n",
       "      <td>2021-08-11</td>\n",
       "      <td>8</td>\n",
       "    </tr>\n",
       "    <tr>\n",
       "      <th>4</th>\n",
       "      <td>1</td>\n",
       "      <td>4028.687306</td>\n",
       "      <td>26.265803</td>\n",
       "      <td>2021-08-28</td>\n",
       "      <td>2021-08-28</td>\n",
       "      <td>8</td>\n",
       "    </tr>\n",
       "  </tbody>\n",
       "</table>\n",
       "</div>"
      ],
      "text/plain": [
       "   user_id     distance   duration        date date_of_ride  month\n",
       "0        1  4409.919140  25.599769  2021-01-01   2021-01-01      1\n",
       "1        1  2617.592153  15.816871  2021-01-18   2021-01-18      1\n",
       "2        1   754.159807   6.232113  2021-04-20   2021-04-20      4\n",
       "3        1  2694.783254  18.511000  2021-08-11   2021-08-11      8\n",
       "4        1  4028.687306  26.265803  2021-08-28   2021-08-28      8"
      ]
     },
     "execution_count": 14,
     "metadata": {},
     "output_type": "execute_result"
    }
   ],
   "source": [
    "rides.head()"
   ]
  },
  {
   "cell_type": "markdown",
   "id": "212593c7",
   "metadata": {},
   "source": [
    "### Исследовательский анализ данных"
   ]
  },
  {
   "cell_type": "markdown",
   "id": "a3d43aaa",
   "metadata": {},
   "source": [
    "Посмотрим на статистику выборки:"
   ]
  },
  {
   "cell_type": "code",
   "execution_count": 15,
   "id": "22596b51",
   "metadata": {},
   "outputs": [
    {
     "data": {
      "text/html": [
       "<div>\n",
       "<style scoped>\n",
       "    .dataframe tbody tr th:only-of-type {\n",
       "        vertical-align: middle;\n",
       "    }\n",
       "\n",
       "    .dataframe tbody tr th {\n",
       "        vertical-align: top;\n",
       "    }\n",
       "\n",
       "    .dataframe thead th {\n",
       "        text-align: right;\n",
       "    }\n",
       "</style>\n",
       "<table border=\"1\" class=\"dataframe\">\n",
       "  <thead>\n",
       "    <tr style=\"text-align: right;\">\n",
       "      <th></th>\n",
       "      <th>user_id</th>\n",
       "      <th>age</th>\n",
       "    </tr>\n",
       "  </thead>\n",
       "  <tbody>\n",
       "    <tr>\n",
       "      <th>count</th>\n",
       "      <td>1534.000000</td>\n",
       "      <td>1534.000000</td>\n",
       "    </tr>\n",
       "    <tr>\n",
       "      <th>mean</th>\n",
       "      <td>767.500000</td>\n",
       "      <td>24.903520</td>\n",
       "    </tr>\n",
       "    <tr>\n",
       "      <th>std</th>\n",
       "      <td>442.971971</td>\n",
       "      <td>4.572367</td>\n",
       "    </tr>\n",
       "    <tr>\n",
       "      <th>min</th>\n",
       "      <td>1.000000</td>\n",
       "      <td>12.000000</td>\n",
       "    </tr>\n",
       "    <tr>\n",
       "      <th>25%</th>\n",
       "      <td>384.250000</td>\n",
       "      <td>22.000000</td>\n",
       "    </tr>\n",
       "    <tr>\n",
       "      <th>50%</th>\n",
       "      <td>767.500000</td>\n",
       "      <td>25.000000</td>\n",
       "    </tr>\n",
       "    <tr>\n",
       "      <th>75%</th>\n",
       "      <td>1150.750000</td>\n",
       "      <td>28.000000</td>\n",
       "    </tr>\n",
       "    <tr>\n",
       "      <th>max</th>\n",
       "      <td>1534.000000</td>\n",
       "      <td>43.000000</td>\n",
       "    </tr>\n",
       "  </tbody>\n",
       "</table>\n",
       "</div>"
      ],
      "text/plain": [
       "           user_id          age\n",
       "count  1534.000000  1534.000000\n",
       "mean    767.500000    24.903520\n",
       "std     442.971971     4.572367\n",
       "min       1.000000    12.000000\n",
       "25%     384.250000    22.000000\n",
       "50%     767.500000    25.000000\n",
       "75%    1150.750000    28.000000\n",
       "max    1534.000000    43.000000"
      ]
     },
     "execution_count": 15,
     "metadata": {},
     "output_type": "execute_result"
    }
   ],
   "source": [
    "users.describe()"
   ]
  },
  {
   "cell_type": "code",
   "execution_count": 16,
   "id": "dbc17145",
   "metadata": {},
   "outputs": [
    {
     "data": {
      "text/html": [
       "<div>\n",
       "<style scoped>\n",
       "    .dataframe tbody tr th:only-of-type {\n",
       "        vertical-align: middle;\n",
       "    }\n",
       "\n",
       "    .dataframe tbody tr th {\n",
       "        vertical-align: top;\n",
       "    }\n",
       "\n",
       "    .dataframe thead th {\n",
       "        text-align: right;\n",
       "    }\n",
       "</style>\n",
       "<table border=\"1\" class=\"dataframe\">\n",
       "  <thead>\n",
       "    <tr style=\"text-align: right;\">\n",
       "      <th></th>\n",
       "      <th>user_id</th>\n",
       "      <th>distance</th>\n",
       "      <th>duration</th>\n",
       "      <th>date_of_ride</th>\n",
       "      <th>month</th>\n",
       "    </tr>\n",
       "  </thead>\n",
       "  <tbody>\n",
       "    <tr>\n",
       "      <th>count</th>\n",
       "      <td>18068.000000</td>\n",
       "      <td>18068.000000</td>\n",
       "      <td>18068.000000</td>\n",
       "      <td>18068</td>\n",
       "      <td>18068.000000</td>\n",
       "    </tr>\n",
       "    <tr>\n",
       "      <th>mean</th>\n",
       "      <td>842.869936</td>\n",
       "      <td>3070.659976</td>\n",
       "      <td>17.805011</td>\n",
       "      <td>2021-06-30 19:47:21.266327296</td>\n",
       "      <td>6.486772</td>\n",
       "    </tr>\n",
       "    <tr>\n",
       "      <th>min</th>\n",
       "      <td>1.000000</td>\n",
       "      <td>0.855683</td>\n",
       "      <td>0.500000</td>\n",
       "      <td>2021-01-01 00:00:00</td>\n",
       "      <td>1.000000</td>\n",
       "    </tr>\n",
       "    <tr>\n",
       "      <th>25%</th>\n",
       "      <td>487.000000</td>\n",
       "      <td>2543.226360</td>\n",
       "      <td>13.597563</td>\n",
       "      <td>2021-04-02 00:00:00</td>\n",
       "      <td>4.000000</td>\n",
       "    </tr>\n",
       "    <tr>\n",
       "      <th>50%</th>\n",
       "      <td>889.000000</td>\n",
       "      <td>3133.609994</td>\n",
       "      <td>17.678395</td>\n",
       "      <td>2021-06-30 00:00:00</td>\n",
       "      <td>6.000000</td>\n",
       "    </tr>\n",
       "    <tr>\n",
       "      <th>75%</th>\n",
       "      <td>1213.250000</td>\n",
       "      <td>3776.222735</td>\n",
       "      <td>21.724800</td>\n",
       "      <td>2021-09-28 00:00:00</td>\n",
       "      <td>9.000000</td>\n",
       "    </tr>\n",
       "    <tr>\n",
       "      <th>max</th>\n",
       "      <td>1534.000000</td>\n",
       "      <td>7211.007745</td>\n",
       "      <td>40.823963</td>\n",
       "      <td>2021-12-30 00:00:00</td>\n",
       "      <td>12.000000</td>\n",
       "    </tr>\n",
       "    <tr>\n",
       "      <th>std</th>\n",
       "      <td>434.734317</td>\n",
       "      <td>1116.831209</td>\n",
       "      <td>6.091051</td>\n",
       "      <td>NaN</td>\n",
       "      <td>3.437410</td>\n",
       "    </tr>\n",
       "  </tbody>\n",
       "</table>\n",
       "</div>"
      ],
      "text/plain": [
       "            user_id      distance      duration  \\\n",
       "count  18068.000000  18068.000000  18068.000000   \n",
       "mean     842.869936   3070.659976     17.805011   \n",
       "min        1.000000      0.855683      0.500000   \n",
       "25%      487.000000   2543.226360     13.597563   \n",
       "50%      889.000000   3133.609994     17.678395   \n",
       "75%     1213.250000   3776.222735     21.724800   \n",
       "max     1534.000000   7211.007745     40.823963   \n",
       "std      434.734317   1116.831209      6.091051   \n",
       "\n",
       "                        date_of_ride         month  \n",
       "count                          18068  18068.000000  \n",
       "mean   2021-06-30 19:47:21.266327296      6.486772  \n",
       "min              2021-01-01 00:00:00      1.000000  \n",
       "25%              2021-04-02 00:00:00      4.000000  \n",
       "50%              2021-06-30 00:00:00      6.000000  \n",
       "75%              2021-09-28 00:00:00      9.000000  \n",
       "max              2021-12-30 00:00:00     12.000000  \n",
       "std                              NaN      3.437410  "
      ]
     },
     "execution_count": 16,
     "metadata": {},
     "output_type": "execute_result"
    }
   ],
   "source": [
    "rides.describe()"
   ]
  },
  {
   "cell_type": "code",
   "execution_count": 17,
   "id": "33cc714a",
   "metadata": {},
   "outputs": [
    {
     "data": {
      "image/png": "[encoded data removed]",
      "text/plain": [
       "<Figure size 1000x800 with 1 Axes>"
      ]
     },
     "metadata": {},
     "output_type": "display_data"
    }
   ],
   "source": [
    "# Частота встречаемости городов\n",
    "city_plot = users['city'].value_counts()\n",
    "\n",
    "\n",
    "\n",
    "fig = plt.figure(figsize = (10,8))\n",
    "ax_1 = fig.add_subplot(1,1,1) \n",
    "plt.bar(x=city_plot.index, height=city_plot.values)\n",
    "ax_1.set_title('Частота встречаемости городов', fontsize = 15)\n",
    "ax_1.set_xlabel('Города') \n",
    "ax_1.set_ylabel('Частота')\n",
    "ax_1.grid(True)\n",
    "ax_1 = plt.xticks(rotation = 50)\n",
    "ax_1 = plt.ylim(160, 230)\n",
    "\n",
    "plt.show()"
   ]
  },
  {
   "cell_type": "markdown",
   "id": "e2817c44",
   "metadata": {},
   "source": [
    "- Больше всего поездок в Пятигорске\n",
    "- Меньше всего в Москве"
   ]
  },
  {
   "cell_type": "code",
   "execution_count": 18,
   "id": "9964cc3d",
   "metadata": {
    "scrolled": false
   },
   "outputs": [
    {
     "data": {
      "image/png": "[encoded data removed]",
      "text/plain": [
       "<Figure size 640x480 with 1 Axes>"
      ]
     },
     "metadata": {},
     "output_type": "display_data"
    }
   ],
   "source": [
    "# Соотношение пользователей с подпиской и без подписки \n",
    "fig, ax = plt.subplots()\n",
    "\n",
    "labels = ['Без подписки','С подпиской']\n",
    "ax.pie(users['subscription_type'].value_counts(), \n",
    "       labels= labels , \n",
    "       autopct='%1.1f%%', \n",
    "       radius = 1.5, \n",
    "       textprops={'fontsize': 14})\n",
    "ax.set_title('Соотношение пользователей', fontsize = 25, y = 1.3)\n",
    "plt.show()"
   ]
  },
  {
   "cell_type": "markdown",
   "id": "b68090b8",
   "metadata": {},
   "source": [
    "- Пользователей <u>без подписки</u> больше."
   ]
  },
  {
   "cell_type": "code",
   "execution_count": 19,
   "id": "45be1233",
   "metadata": {
    "scrolled": true
   },
   "outputs": [
    {
     "data": {
      "image/png": "[encoded data removed]",
      "text/plain": [
       "<Figure size 1000x600 with 1 Axes>"
      ]
     },
     "metadata": {},
     "output_type": "display_data"
    }
   ],
   "source": [
    "# Возраст пользователей\n",
    "\n",
    "fig = plt.figure(figsize = (10,6)) # задаем размер изображения\n",
    "ax_3 = sns.histplot(users, x='age', shrink=.9, kde=True)\n",
    "ticks = []\n",
    "for i in range (10,45):\n",
    "    ticks.append(i)\n",
    "\n",
    "ax_3.set_title('Возраст пользователей', fontsize= 15)\n",
    "ax_3.set_xlabel('Возраст') \n",
    "ax_3.set_ylabel('Количество пользователей, %')\n",
    "\n",
    "plt.show()"
   ]
  },
  {
   "cell_type": "code",
   "execution_count": 20,
   "id": "01b1cc2d",
   "metadata": {},
   "outputs": [
    {
     "data": {
      "text/plain": [
       "count    1534.000000\n",
       "mean       24.903520\n",
       "std         4.572367\n",
       "min        12.000000\n",
       "25%        22.000000\n",
       "50%        25.000000\n",
       "75%        28.000000\n",
       "max        43.000000\n",
       "Name: age, dtype: float64"
      ]
     },
     "execution_count": 20,
     "metadata": {},
     "output_type": "execute_result"
    }
   ],
   "source": [
    "users['age'].describe()"
   ]
  },
  {
   "cell_type": "markdown",
   "id": "55846b15",
   "metadata": {},
   "source": [
    "- Возраст пользователей от 12 до 43 лет\n",
    "- Мода - 25 лет"
   ]
  },
  {
   "cell_type": "code",
   "execution_count": 21,
   "id": "7b28c717",
   "metadata": {
    "scrolled": true
   },
   "outputs": [
    {
     "data": {
      "image/png": "[encoded data removed]",
      "text/plain": [
       "<Figure size 1000x600 with 1 Axes>"
      ]
     },
     "metadata": {},
     "output_type": "display_data"
    }
   ],
   "source": [
    "# Расстояние, которое пользователь преодолел за одну поездку;\n",
    "fig = plt.figure(figsize = (10,6)) # задаем размер изображения \n",
    "ax_4 = sns.histplot(rides, x='distance', kde=True)\n",
    "ax_4.set_title('Расстояние, которое пользователь преодолел за одну поездку', fontsize = 15)\n",
    "ax_4.set_xlabel('Расстояние') \n",
    "ax_4.set_ylabel('Количетсво поездок')\n",
    "ax_4.grid(True)\n",
    "plt.show()"
   ]
  },
  {
   "cell_type": "markdown",
   "id": "f4e62afd",
   "metadata": {},
   "source": [
    "- Среднее расстояние поездки в районе 3км\n"
   ]
  },
  {
   "cell_type": "code",
   "execution_count": 22,
   "id": "e3a4274c",
   "metadata": {},
   "outputs": [
    {
     "data": {
      "image/png": "[encoded data removed]",
      "text/plain": [
       "<Figure size 1000x600 with 1 Axes>"
      ]
     },
     "metadata": {},
     "output_type": "display_data"
    }
   ],
   "source": [
    "# Продолжительность поездок.\n",
    "\n",
    "fig = plt.figure(figsize = (10,6)) # задаем размер изображения\n",
    "ax_5 = sns.histplot(rides, x='duration', kde=True)\n",
    "ax_5.set_title('Продолжительность поездок', fontsize= 15)\n",
    "ax_5.set_xlabel('Длительность, минуты') \n",
    "ax_5.set_ylabel('Количетсво поездок')\n",
    "ax_5.grid(True)\n",
    "\n",
    "plt.show()"
   ]
  },
  {
   "cell_type": "markdown",
   "id": "eaf14f05",
   "metadata": {},
   "source": [
    "- Продолжительность поездок до 40 минут\n",
    "- Среднее время 17 минут\n",
    "- Пик около нуля (очень короткие поездки), скорее всего, говорит от технической неисправности и быстром завершении."
   ]
  },
  {
   "cell_type": "markdown",
   "id": "503510b9",
   "metadata": {},
   "source": [
    "### Объединение данных\n"
   ]
  },
  {
   "cell_type": "code",
   "execution_count": 23,
   "id": "281e7297",
   "metadata": {},
   "outputs": [
    {
     "data": {
      "text/html": [
       "<div>\n",
       "<style scoped>\n",
       "    .dataframe tbody tr th:only-of-type {\n",
       "        vertical-align: middle;\n",
       "    }\n",
       "\n",
       "    .dataframe tbody tr th {\n",
       "        vertical-align: top;\n",
       "    }\n",
       "\n",
       "    .dataframe thead th {\n",
       "        text-align: right;\n",
       "    }\n",
       "</style>\n",
       "<table border=\"1\" class=\"dataframe\">\n",
       "  <thead>\n",
       "    <tr style=\"text-align: right;\">\n",
       "      <th></th>\n",
       "      <th>user_id</th>\n",
       "      <th>name</th>\n",
       "      <th>age</th>\n",
       "      <th>city</th>\n",
       "      <th>subscription_type</th>\n",
       "      <th>distance</th>\n",
       "      <th>duration</th>\n",
       "      <th>date</th>\n",
       "      <th>date_of_ride</th>\n",
       "      <th>month</th>\n",
       "      <th>minute_price</th>\n",
       "      <th>start_ride_price</th>\n",
       "      <th>subscription_fee</th>\n",
       "    </tr>\n",
       "  </thead>\n",
       "  <tbody>\n",
       "    <tr>\n",
       "      <th>0</th>\n",
       "      <td>700</td>\n",
       "      <td>Айдар</td>\n",
       "      <td>22</td>\n",
       "      <td>Омск</td>\n",
       "      <td>free</td>\n",
       "      <td>2515.690719</td>\n",
       "      <td>14.944286</td>\n",
       "      <td>2021-01-02</td>\n",
       "      <td>2021-01-02</td>\n",
       "      <td>1</td>\n",
       "      <td>8</td>\n",
       "      <td>50</td>\n",
       "      <td>0</td>\n",
       "    </tr>\n",
       "    <tr>\n",
       "      <th>1</th>\n",
       "      <td>700</td>\n",
       "      <td>Айдар</td>\n",
       "      <td>22</td>\n",
       "      <td>Омск</td>\n",
       "      <td>free</td>\n",
       "      <td>846.932642</td>\n",
       "      <td>16.234663</td>\n",
       "      <td>2021-02-01</td>\n",
       "      <td>2021-02-01</td>\n",
       "      <td>2</td>\n",
       "      <td>8</td>\n",
       "      <td>50</td>\n",
       "      <td>0</td>\n",
       "    </tr>\n",
       "    <tr>\n",
       "      <th>2</th>\n",
       "      <td>700</td>\n",
       "      <td>Айдар</td>\n",
       "      <td>22</td>\n",
       "      <td>Омск</td>\n",
       "      <td>free</td>\n",
       "      <td>4004.434142</td>\n",
       "      <td>20.016628</td>\n",
       "      <td>2021-02-04</td>\n",
       "      <td>2021-02-04</td>\n",
       "      <td>2</td>\n",
       "      <td>8</td>\n",
       "      <td>50</td>\n",
       "      <td>0</td>\n",
       "    </tr>\n",
       "    <tr>\n",
       "      <th>3</th>\n",
       "      <td>700</td>\n",
       "      <td>Айдар</td>\n",
       "      <td>22</td>\n",
       "      <td>Омск</td>\n",
       "      <td>free</td>\n",
       "      <td>1205.911290</td>\n",
       "      <td>9.782872</td>\n",
       "      <td>2021-02-10</td>\n",
       "      <td>2021-02-10</td>\n",
       "      <td>2</td>\n",
       "      <td>8</td>\n",
       "      <td>50</td>\n",
       "      <td>0</td>\n",
       "    </tr>\n",
       "    <tr>\n",
       "      <th>4</th>\n",
       "      <td>700</td>\n",
       "      <td>Айдар</td>\n",
       "      <td>22</td>\n",
       "      <td>Омск</td>\n",
       "      <td>free</td>\n",
       "      <td>3047.379435</td>\n",
       "      <td>17.427673</td>\n",
       "      <td>2021-02-14</td>\n",
       "      <td>2021-02-14</td>\n",
       "      <td>2</td>\n",
       "      <td>8</td>\n",
       "      <td>50</td>\n",
       "      <td>0</td>\n",
       "    </tr>\n",
       "    <tr>\n",
       "      <th>5</th>\n",
       "      <td>700</td>\n",
       "      <td>Айдар</td>\n",
       "      <td>22</td>\n",
       "      <td>Омск</td>\n",
       "      <td>free</td>\n",
       "      <td>4342.002254</td>\n",
       "      <td>22.368009</td>\n",
       "      <td>2021-02-23</td>\n",
       "      <td>2021-02-23</td>\n",
       "      <td>2</td>\n",
       "      <td>8</td>\n",
       "      <td>50</td>\n",
       "      <td>0</td>\n",
       "    </tr>\n",
       "    <tr>\n",
       "      <th>6</th>\n",
       "      <td>700</td>\n",
       "      <td>Айдар</td>\n",
       "      <td>22</td>\n",
       "      <td>Омск</td>\n",
       "      <td>free</td>\n",
       "      <td>3798.334905</td>\n",
       "      <td>18.243756</td>\n",
       "      <td>2021-03-03</td>\n",
       "      <td>2021-03-03</td>\n",
       "      <td>3</td>\n",
       "      <td>8</td>\n",
       "      <td>50</td>\n",
       "      <td>0</td>\n",
       "    </tr>\n",
       "    <tr>\n",
       "      <th>7</th>\n",
       "      <td>700</td>\n",
       "      <td>Айдар</td>\n",
       "      <td>22</td>\n",
       "      <td>Омск</td>\n",
       "      <td>free</td>\n",
       "      <td>2984.551206</td>\n",
       "      <td>15.424899</td>\n",
       "      <td>2021-04-09</td>\n",
       "      <td>2021-04-09</td>\n",
       "      <td>4</td>\n",
       "      <td>8</td>\n",
       "      <td>50</td>\n",
       "      <td>0</td>\n",
       "    </tr>\n",
       "    <tr>\n",
       "      <th>8</th>\n",
       "      <td>700</td>\n",
       "      <td>Айдар</td>\n",
       "      <td>22</td>\n",
       "      <td>Омск</td>\n",
       "      <td>free</td>\n",
       "      <td>3360.107141</td>\n",
       "      <td>16.765497</td>\n",
       "      <td>2021-06-12</td>\n",
       "      <td>2021-06-12</td>\n",
       "      <td>6</td>\n",
       "      <td>8</td>\n",
       "      <td>50</td>\n",
       "      <td>0</td>\n",
       "    </tr>\n",
       "    <tr>\n",
       "      <th>9</th>\n",
       "      <td>700</td>\n",
       "      <td>Айдар</td>\n",
       "      <td>22</td>\n",
       "      <td>Омск</td>\n",
       "      <td>free</td>\n",
       "      <td>2567.543847</td>\n",
       "      <td>11.312160</td>\n",
       "      <td>2021-06-23</td>\n",
       "      <td>2021-06-23</td>\n",
       "      <td>6</td>\n",
       "      <td>8</td>\n",
       "      <td>50</td>\n",
       "      <td>0</td>\n",
       "    </tr>\n",
       "  </tbody>\n",
       "</table>\n",
       "</div>"
      ],
      "text/plain": [
       "   user_id   name  age  city subscription_type     distance   duration  \\\n",
       "0      700  Айдар   22  Омск              free  2515.690719  14.944286   \n",
       "1      700  Айдар   22  Омск              free   846.932642  16.234663   \n",
       "2      700  Айдар   22  Омск              free  4004.434142  20.016628   \n",
       "3      700  Айдар   22  Омск              free  1205.911290   9.782872   \n",
       "4      700  Айдар   22  Омск              free  3047.379435  17.427673   \n",
       "5      700  Айдар   22  Омск              free  4342.002254  22.368009   \n",
       "6      700  Айдар   22  Омск              free  3798.334905  18.243756   \n",
       "7      700  Айдар   22  Омск              free  2984.551206  15.424899   \n",
       "8      700  Айдар   22  Омск              free  3360.107141  16.765497   \n",
       "9      700  Айдар   22  Омск              free  2567.543847  11.312160   \n",
       "\n",
       "         date date_of_ride  month  minute_price  start_ride_price  \\\n",
       "0  2021-01-02   2021-01-02      1             8                50   \n",
       "1  2021-02-01   2021-02-01      2             8                50   \n",
       "2  2021-02-04   2021-02-04      2             8                50   \n",
       "3  2021-02-10   2021-02-10      2             8                50   \n",
       "4  2021-02-14   2021-02-14      2             8                50   \n",
       "5  2021-02-23   2021-02-23      2             8                50   \n",
       "6  2021-03-03   2021-03-03      3             8                50   \n",
       "7  2021-04-09   2021-04-09      4             8                50   \n",
       "8  2021-06-12   2021-06-12      6             8                50   \n",
       "9  2021-06-23   2021-06-23      6             8                50   \n",
       "\n",
       "   subscription_fee  \n",
       "0                 0  \n",
       "1                 0  \n",
       "2                 0  \n",
       "3                 0  \n",
       "4                 0  \n",
       "5                 0  \n",
       "6                 0  \n",
       "7                 0  \n",
       "8                 0  \n",
       "9                 0  "
      ]
     },
     "execution_count": 23,
     "metadata": {},
     "output_type": "execute_result"
    }
   ],
   "source": [
    "data = users.merge(rides, how = 'outer', left_on = 'user_id', right_on = 'user_id' )\n",
    "data = data.merge(subscriptions, how = 'outer', left_on = 'subscription_type', right_on = 'subscription_type')\n",
    "data.head(10)"
   ]
  },
  {
   "cell_type": "code",
   "execution_count": 24,
   "id": "8eab6fad",
   "metadata": {},
   "outputs": [
    {
     "name": "stdout",
     "output_type": "stream",
     "text": [
      "<class 'pandas.core.frame.DataFrame'>\n",
      "RangeIndex: 18068 entries, 0 to 18067\n",
      "Data columns (total 13 columns):\n",
      " #   Column             Non-Null Count  Dtype         \n",
      "---  ------             --------------  -----         \n",
      " 0   user_id            18068 non-null  int64         \n",
      " 1   name               18068 non-null  object        \n",
      " 2   age                18068 non-null  int64         \n",
      " 3   city               18068 non-null  object        \n",
      " 4   subscription_type  18068 non-null  object        \n",
      " 5   distance           18068 non-null  float64       \n",
      " 6   duration           18068 non-null  float64       \n",
      " 7   date               18068 non-null  object        \n",
      " 8   date_of_ride       18068 non-null  datetime64[ns]\n",
      " 9   month              18068 non-null  int32         \n",
      " 10  minute_price       18068 non-null  int64         \n",
      " 11  start_ride_price   18068 non-null  int64         \n",
      " 12  subscription_fee   18068 non-null  int64         \n",
      "dtypes: datetime64[ns](1), float64(2), int32(1), int64(5), object(4)\n",
      "memory usage: 1.7+ MB\n"
     ]
    }
   ],
   "source": [
    "data.info()"
   ]
  },
  {
   "cell_type": "markdown",
   "id": "f42b4a7c",
   "metadata": {},
   "source": [
    "Все три таблицы объединены в одну. \n",
    "\n",
    "Таблицы users и rides 'склеены' по user_id. \n",
    "\n",
    "Далее полученая таблица дополнена из таблицы subscriptions по столбцу subscription_type"
   ]
  },
  {
   "cell_type": "code",
   "execution_count": 25,
   "id": "a86e9759",
   "metadata": {},
   "outputs": [
    {
     "data": {
      "text/plain": [
       "array(['free'], dtype=object)"
      ]
     },
     "execution_count": 25,
     "metadata": {},
     "output_type": "execute_result"
    }
   ],
   "source": [
    "# Из общего датасета выделим отдельно пользователей без подписки\n",
    "data_free = data.query('subscription_type == \"free\"')\n",
    "data_free['subscription_type'].unique()"
   ]
  },
  {
   "cell_type": "code",
   "execution_count": 26,
   "id": "5f175570",
   "metadata": {},
   "outputs": [
    {
     "data": {
      "text/html": [
       "<div>\n",
       "<style scoped>\n",
       "    .dataframe tbody tr th:only-of-type {\n",
       "        vertical-align: middle;\n",
       "    }\n",
       "\n",
       "    .dataframe tbody tr th {\n",
       "        vertical-align: top;\n",
       "    }\n",
       "\n",
       "    .dataframe thead th {\n",
       "        text-align: right;\n",
       "    }\n",
       "</style>\n",
       "<table border=\"1\" class=\"dataframe\">\n",
       "  <thead>\n",
       "    <tr style=\"text-align: right;\">\n",
       "      <th></th>\n",
       "      <th>user_id</th>\n",
       "      <th>age</th>\n",
       "      <th>distance</th>\n",
       "      <th>duration</th>\n",
       "      <th>date_of_ride</th>\n",
       "      <th>month</th>\n",
       "      <th>minute_price</th>\n",
       "      <th>start_ride_price</th>\n",
       "      <th>subscription_fee</th>\n",
       "    </tr>\n",
       "  </thead>\n",
       "  <tbody>\n",
       "    <tr>\n",
       "      <th>count</th>\n",
       "      <td>11568.000000</td>\n",
       "      <td>11568.000000</td>\n",
       "      <td>11568.000000</td>\n",
       "      <td>11568.000000</td>\n",
       "      <td>11568</td>\n",
       "      <td>11568.000000</td>\n",
       "      <td>11568.0</td>\n",
       "      <td>11568.0</td>\n",
       "      <td>11568.0</td>\n",
       "    </tr>\n",
       "    <tr>\n",
       "      <th>mean</th>\n",
       "      <td>1120.527230</td>\n",
       "      <td>24.893326</td>\n",
       "      <td>3045.495282</td>\n",
       "      <td>17.390909</td>\n",
       "      <td>2021-07-01 21:47:03.236514560</td>\n",
       "      <td>6.522994</td>\n",
       "      <td>8.0</td>\n",
       "      <td>50.0</td>\n",
       "      <td>0.0</td>\n",
       "    </tr>\n",
       "    <tr>\n",
       "      <th>min</th>\n",
       "      <td>700.000000</td>\n",
       "      <td>12.000000</td>\n",
       "      <td>0.855683</td>\n",
       "      <td>0.500000</td>\n",
       "      <td>2021-01-01 00:00:00</td>\n",
       "      <td>1.000000</td>\n",
       "      <td>8.0</td>\n",
       "      <td>50.0</td>\n",
       "      <td>0.0</td>\n",
       "    </tr>\n",
       "    <tr>\n",
       "      <th>25%</th>\n",
       "      <td>915.000000</td>\n",
       "      <td>22.000000</td>\n",
       "      <td>2366.562689</td>\n",
       "      <td>12.958437</td>\n",
       "      <td>2021-04-02 00:00:00</td>\n",
       "      <td>4.000000</td>\n",
       "      <td>8.0</td>\n",
       "      <td>50.0</td>\n",
       "      <td>0.0</td>\n",
       "    </tr>\n",
       "    <tr>\n",
       "      <th>50%</th>\n",
       "      <td>1123.000000</td>\n",
       "      <td>25.000000</td>\n",
       "      <td>3114.648465</td>\n",
       "      <td>17.326890</td>\n",
       "      <td>2021-07-01 00:00:00</td>\n",
       "      <td>7.000000</td>\n",
       "      <td>8.0</td>\n",
       "      <td>50.0</td>\n",
       "      <td>0.0</td>\n",
       "    </tr>\n",
       "    <tr>\n",
       "      <th>75%</th>\n",
       "      <td>1328.000000</td>\n",
       "      <td>28.000000</td>\n",
       "      <td>3905.697894</td>\n",
       "      <td>21.594071</td>\n",
       "      <td>2021-09-30 00:00:00</td>\n",
       "      <td>9.000000</td>\n",
       "      <td>8.0</td>\n",
       "      <td>50.0</td>\n",
       "      <td>0.0</td>\n",
       "    </tr>\n",
       "    <tr>\n",
       "      <th>max</th>\n",
       "      <td>1534.000000</td>\n",
       "      <td>43.000000</td>\n",
       "      <td>7211.007745</td>\n",
       "      <td>34.948498</td>\n",
       "      <td>2021-12-30 00:00:00</td>\n",
       "      <td>12.000000</td>\n",
       "      <td>8.0</td>\n",
       "      <td>50.0</td>\n",
       "      <td>0.0</td>\n",
       "    </tr>\n",
       "    <tr>\n",
       "      <th>std</th>\n",
       "      <td>241.165628</td>\n",
       "      <td>4.481100</td>\n",
       "      <td>1246.173806</td>\n",
       "      <td>6.326803</td>\n",
       "      <td>NaN</td>\n",
       "      <td>3.449770</td>\n",
       "      <td>0.0</td>\n",
       "      <td>0.0</td>\n",
       "      <td>0.0</td>\n",
       "    </tr>\n",
       "  </tbody>\n",
       "</table>\n",
       "</div>"
      ],
      "text/plain": [
       "            user_id           age      distance      duration  \\\n",
       "count  11568.000000  11568.000000  11568.000000  11568.000000   \n",
       "mean    1120.527230     24.893326   3045.495282     17.390909   \n",
       "min      700.000000     12.000000      0.855683      0.500000   \n",
       "25%      915.000000     22.000000   2366.562689     12.958437   \n",
       "50%     1123.000000     25.000000   3114.648465     17.326890   \n",
       "75%     1328.000000     28.000000   3905.697894     21.594071   \n",
       "max     1534.000000     43.000000   7211.007745     34.948498   \n",
       "std      241.165628      4.481100   1246.173806      6.326803   \n",
       "\n",
       "                        date_of_ride         month  minute_price  \\\n",
       "count                          11568  11568.000000       11568.0   \n",
       "mean   2021-07-01 21:47:03.236514560      6.522994           8.0   \n",
       "min              2021-01-01 00:00:00      1.000000           8.0   \n",
       "25%              2021-04-02 00:00:00      4.000000           8.0   \n",
       "50%              2021-07-01 00:00:00      7.000000           8.0   \n",
       "75%              2021-09-30 00:00:00      9.000000           8.0   \n",
       "max              2021-12-30 00:00:00     12.000000           8.0   \n",
       "std                              NaN      3.449770           0.0   \n",
       "\n",
       "       start_ride_price  subscription_fee  \n",
       "count           11568.0           11568.0  \n",
       "mean               50.0               0.0  \n",
       "min                50.0               0.0  \n",
       "25%                50.0               0.0  \n",
       "50%                50.0               0.0  \n",
       "75%                50.0               0.0  \n",
       "max                50.0               0.0  \n",
       "std                 0.0               0.0  "
      ]
     },
     "execution_count": 26,
     "metadata": {},
     "output_type": "execute_result"
    }
   ],
   "source": [
    "data_free.describe()"
   ]
  },
  {
   "cell_type": "code",
   "execution_count": 27,
   "id": "f7da41fd",
   "metadata": {},
   "outputs": [
    {
     "data": {
      "text/plain": [
       "array(['ultra'], dtype=object)"
      ]
     },
     "execution_count": 27,
     "metadata": {},
     "output_type": "execute_result"
    }
   ],
   "source": [
    "# Из общего датасета выделим отдельно пользователей с подпиской\n",
    "data_ultra = data.query('subscription_type ==\"ultra\"')\n",
    "data_ultra['subscription_type'].unique()"
   ]
  },
  {
   "cell_type": "code",
   "execution_count": 28,
   "id": "3889135a",
   "metadata": {},
   "outputs": [
    {
     "data": {
      "text/html": [
       "<div>\n",
       "<style scoped>\n",
       "    .dataframe tbody tr th:only-of-type {\n",
       "        vertical-align: middle;\n",
       "    }\n",
       "\n",
       "    .dataframe tbody tr th {\n",
       "        vertical-align: top;\n",
       "    }\n",
       "\n",
       "    .dataframe thead th {\n",
       "        text-align: right;\n",
       "    }\n",
       "</style>\n",
       "<table border=\"1\" class=\"dataframe\">\n",
       "  <thead>\n",
       "    <tr style=\"text-align: right;\">\n",
       "      <th></th>\n",
       "      <th>user_id</th>\n",
       "      <th>age</th>\n",
       "      <th>distance</th>\n",
       "      <th>duration</th>\n",
       "      <th>date_of_ride</th>\n",
       "      <th>month</th>\n",
       "      <th>minute_price</th>\n",
       "      <th>start_ride_price</th>\n",
       "      <th>subscription_fee</th>\n",
       "    </tr>\n",
       "  </thead>\n",
       "  <tbody>\n",
       "    <tr>\n",
       "      <th>count</th>\n",
       "      <td>6500.000000</td>\n",
       "      <td>6500.000000</td>\n",
       "      <td>6500.000000</td>\n",
       "      <td>6500.000000</td>\n",
       "      <td>6500</td>\n",
       "      <td>6500.000000</td>\n",
       "      <td>6500.0</td>\n",
       "      <td>6500.0</td>\n",
       "      <td>6500.0</td>\n",
       "    </tr>\n",
       "    <tr>\n",
       "      <th>mean</th>\n",
       "      <td>348.725385</td>\n",
       "      <td>24.892615</td>\n",
       "      <td>3115.445388</td>\n",
       "      <td>18.541985</td>\n",
       "      <td>2021-06-28 21:31:34.153846016</td>\n",
       "      <td>6.422308</td>\n",
       "      <td>6.0</td>\n",
       "      <td>0.0</td>\n",
       "      <td>199.0</td>\n",
       "    </tr>\n",
       "    <tr>\n",
       "      <th>min</th>\n",
       "      <td>1.000000</td>\n",
       "      <td>12.000000</td>\n",
       "      <td>244.210438</td>\n",
       "      <td>3.760353</td>\n",
       "      <td>2021-01-01 00:00:00</td>\n",
       "      <td>1.000000</td>\n",
       "      <td>6.0</td>\n",
       "      <td>0.0</td>\n",
       "      <td>199.0</td>\n",
       "    </tr>\n",
       "    <tr>\n",
       "      <th>25%</th>\n",
       "      <td>175.000000</td>\n",
       "      <td>22.000000</td>\n",
       "      <td>2785.444017</td>\n",
       "      <td>14.524654</td>\n",
       "      <td>2021-04-01 00:00:00</td>\n",
       "      <td>4.000000</td>\n",
       "      <td>6.0</td>\n",
       "      <td>0.0</td>\n",
       "      <td>199.0</td>\n",
       "    </tr>\n",
       "    <tr>\n",
       "      <th>50%</th>\n",
       "      <td>351.000000</td>\n",
       "      <td>25.000000</td>\n",
       "      <td>3148.637229</td>\n",
       "      <td>18.178153</td>\n",
       "      <td>2021-06-27 00:00:00</td>\n",
       "      <td>6.000000</td>\n",
       "      <td>6.0</td>\n",
       "      <td>0.0</td>\n",
       "      <td>199.0</td>\n",
       "    </tr>\n",
       "    <tr>\n",
       "      <th>75%</th>\n",
       "      <td>525.000000</td>\n",
       "      <td>28.000000</td>\n",
       "      <td>3560.574425</td>\n",
       "      <td>21.884129</td>\n",
       "      <td>2021-09-25 00:00:00</td>\n",
       "      <td>9.000000</td>\n",
       "      <td>6.0</td>\n",
       "      <td>0.0</td>\n",
       "      <td>199.0</td>\n",
       "    </tr>\n",
       "    <tr>\n",
       "      <th>max</th>\n",
       "      <td>699.000000</td>\n",
       "      <td>38.000000</td>\n",
       "      <td>5699.769662</td>\n",
       "      <td>40.823963</td>\n",
       "      <td>2021-12-30 00:00:00</td>\n",
       "      <td>12.000000</td>\n",
       "      <td>6.0</td>\n",
       "      <td>0.0</td>\n",
       "      <td>199.0</td>\n",
       "    </tr>\n",
       "    <tr>\n",
       "      <th>std</th>\n",
       "      <td>201.099339</td>\n",
       "      <td>4.757208</td>\n",
       "      <td>836.895330</td>\n",
       "      <td>5.572048</td>\n",
       "      <td>NaN</td>\n",
       "      <td>3.414616</td>\n",
       "      <td>0.0</td>\n",
       "      <td>0.0</td>\n",
       "      <td>0.0</td>\n",
       "    </tr>\n",
       "  </tbody>\n",
       "</table>\n",
       "</div>"
      ],
      "text/plain": [
       "           user_id          age     distance     duration  \\\n",
       "count  6500.000000  6500.000000  6500.000000  6500.000000   \n",
       "mean    348.725385    24.892615  3115.445388    18.541985   \n",
       "min       1.000000    12.000000   244.210438     3.760353   \n",
       "25%     175.000000    22.000000  2785.444017    14.524654   \n",
       "50%     351.000000    25.000000  3148.637229    18.178153   \n",
       "75%     525.000000    28.000000  3560.574425    21.884129   \n",
       "max     699.000000    38.000000  5699.769662    40.823963   \n",
       "std     201.099339     4.757208   836.895330     5.572048   \n",
       "\n",
       "                        date_of_ride        month  minute_price  \\\n",
       "count                           6500  6500.000000        6500.0   \n",
       "mean   2021-06-28 21:31:34.153846016     6.422308           6.0   \n",
       "min              2021-01-01 00:00:00     1.000000           6.0   \n",
       "25%              2021-04-01 00:00:00     4.000000           6.0   \n",
       "50%              2021-06-27 00:00:00     6.000000           6.0   \n",
       "75%              2021-09-25 00:00:00     9.000000           6.0   \n",
       "max              2021-12-30 00:00:00    12.000000           6.0   \n",
       "std                              NaN     3.414616           0.0   \n",
       "\n",
       "       start_ride_price  subscription_fee  \n",
       "count            6500.0            6500.0  \n",
       "mean                0.0             199.0  \n",
       "min                 0.0             199.0  \n",
       "25%                 0.0             199.0  \n",
       "50%                 0.0             199.0  \n",
       "75%                 0.0             199.0  \n",
       "max                 0.0             199.0  \n",
       "std                 0.0               0.0  "
      ]
     },
     "execution_count": 28,
     "metadata": {},
     "output_type": "execute_result"
    }
   ],
   "source": [
    "data_ultra.describe()"
   ]
  },
  {
   "cell_type": "markdown",
   "id": "1553bd09",
   "metadata": {},
   "source": [
    "data_free - датасет с информацией о пользователях без подписки\n",
    "\n",
    "data_ultra - датасет с информацией о пользователях с подпиской"
   ]
  },
  {
   "cell_type": "code",
   "execution_count": 29,
   "id": "ff4563cf",
   "metadata": {},
   "outputs": [
    {
     "data": {
      "image/png": "[encoded data removed]",
      "text/plain": [
       "<Figure size 1200x800 with 1 Axes>"
      ]
     },
     "metadata": {},
     "output_type": "display_data"
    }
   ],
   "source": [
    "# Расстояние, которое пользователь преодолел за одну поездку;\n",
    "plt.figure(figsize = (12,8))\n",
    "plt.title('Расстояние, которое пользователь преодолел за одну поездку')\n",
    "plt.xlabel('Расстояние, метры')\n",
    "plt.ylabel('Количество поездок')\n",
    "plt.hist(data_free['distance'],bins= 50, alpha=0.9, label='Без подписки')\n",
    "plt.hist(data_ultra['distance'], bins= 50, alpha=0.9, label='С подпиской')\n",
    "\n",
    "# Добавляем легенду и выводим график на экран\n",
    "plt.legend()\n",
    "plt.show()\n"
   ]
  },
  {
   "cell_type": "markdown",
   "id": "eefdea18",
   "metadata": {},
   "source": [
    "- Значения среднего расстояние для пользователей с подпиской и без совпадают\n",
    "- Однако стандартное отклонение для пользователей без подписки выше."
   ]
  },
  {
   "cell_type": "code",
   "execution_count": 30,
   "id": "141c9dd5",
   "metadata": {},
   "outputs": [
    {
     "data": {
      "image/png": "[encoded data removed]",
      "text/plain": [
       "<Figure size 1200x800 with 1 Axes>"
      ]
     },
     "metadata": {},
     "output_type": "display_data"
    }
   ],
   "source": [
    "# Продолжительность поездок пользователей с подпиской и без;\n",
    "plt.figure(figsize = (12,8))\n",
    "plt.title('Продолжительность поездок')\n",
    "plt.xlabel('Время, минуты')\n",
    "plt.ylabel('Количество поездок')\n",
    "plt.hist(data_free['duration'],bins= 50, alpha=0.9, label='Без подписки')\n",
    "plt.hist(data_ultra['duration'], bins= 50, alpha=0.9, label='С подпиской')\n",
    "\n",
    "# Добавляем легенду и выводим график на экран\n",
    "plt.legend()\n",
    "plt.show()\n"
   ]
  },
  {
   "cell_type": "markdown",
   "id": "910b9428",
   "metadata": {},
   "source": [
    "- Пик около нуля для пользователей без подписки скорее говорит о тех. проблемах с самокатом.\n",
    "- Пользователи без подписки чаще используют самокаты на более короткое время"
   ]
  },
  {
   "cell_type": "markdown",
   "id": "402d620f",
   "metadata": {},
   "source": [
    "### Подсчёт выручки"
   ]
  },
  {
   "cell_type": "markdown",
   "id": "77402d0d",
   "metadata": {},
   "source": [
    "Создадим датафрейм с агрегированными данными о поездках на основе data с объединёнными данными.\n",
    "Найдем суммарное расстояние, количество поездок и суммарное время для каждого пользователя за каждый месяц."
   ]
  },
  {
   "cell_type": "code",
   "execution_count": 31,
   "id": "4fd7bf87",
   "metadata": {},
   "outputs": [
    {
     "data": {
      "text/html": [
       "<div>\n",
       "<style scoped>\n",
       "    .dataframe tbody tr th:only-of-type {\n",
       "        vertical-align: middle;\n",
       "    }\n",
       "\n",
       "    .dataframe tbody tr th {\n",
       "        vertical-align: top;\n",
       "    }\n",
       "\n",
       "    .dataframe thead th {\n",
       "        text-align: right;\n",
       "    }\n",
       "</style>\n",
       "<table border=\"1\" class=\"dataframe\">\n",
       "  <thead>\n",
       "    <tr style=\"text-align: right;\">\n",
       "      <th></th>\n",
       "      <th>user_id</th>\n",
       "      <th>month</th>\n",
       "      <th>subscription_type</th>\n",
       "      <th>minute_price</th>\n",
       "      <th>start_ride_price</th>\n",
       "      <th>subscription_fee</th>\n",
       "      <th>quantity</th>\n",
       "      <th>distance_amount</th>\n",
       "      <th>duration_amount</th>\n",
       "    </tr>\n",
       "  </thead>\n",
       "  <tbody>\n",
       "    <tr>\n",
       "      <th>0</th>\n",
       "      <td>1</td>\n",
       "      <td>1</td>\n",
       "      <td>ultra</td>\n",
       "      <td>6</td>\n",
       "      <td>0</td>\n",
       "      <td>199</td>\n",
       "      <td>2</td>\n",
       "      <td>7027.511294</td>\n",
       "      <td>42.0</td>\n",
       "    </tr>\n",
       "    <tr>\n",
       "      <th>1</th>\n",
       "      <td>1</td>\n",
       "      <td>4</td>\n",
       "      <td>ultra</td>\n",
       "      <td>6</td>\n",
       "      <td>0</td>\n",
       "      <td>199</td>\n",
       "      <td>1</td>\n",
       "      <td>754.159807</td>\n",
       "      <td>7.0</td>\n",
       "    </tr>\n",
       "    <tr>\n",
       "      <th>2</th>\n",
       "      <td>1</td>\n",
       "      <td>8</td>\n",
       "      <td>ultra</td>\n",
       "      <td>6</td>\n",
       "      <td>0</td>\n",
       "      <td>199</td>\n",
       "      <td>2</td>\n",
       "      <td>6723.470560</td>\n",
       "      <td>46.0</td>\n",
       "    </tr>\n",
       "    <tr>\n",
       "      <th>3</th>\n",
       "      <td>1</td>\n",
       "      <td>10</td>\n",
       "      <td>ultra</td>\n",
       "      <td>6</td>\n",
       "      <td>0</td>\n",
       "      <td>199</td>\n",
       "      <td>2</td>\n",
       "      <td>5809.911100</td>\n",
       "      <td>32.0</td>\n",
       "    </tr>\n",
       "    <tr>\n",
       "      <th>4</th>\n",
       "      <td>1</td>\n",
       "      <td>11</td>\n",
       "      <td>ultra</td>\n",
       "      <td>6</td>\n",
       "      <td>0</td>\n",
       "      <td>199</td>\n",
       "      <td>3</td>\n",
       "      <td>7003.499363</td>\n",
       "      <td>56.0</td>\n",
       "    </tr>\n",
       "  </tbody>\n",
       "</table>\n",
       "</div>"
      ],
      "text/plain": [
       "   user_id  month subscription_type  minute_price  start_ride_price  \\\n",
       "0        1      1             ultra             6                 0   \n",
       "1        1      4             ultra             6                 0   \n",
       "2        1      8             ultra             6                 0   \n",
       "3        1     10             ultra             6                 0   \n",
       "4        1     11             ultra             6                 0   \n",
       "\n",
       "   subscription_fee  quantity  distance_amount  duration_amount  \n",
       "0               199         2      7027.511294             42.0  \n",
       "1               199         1       754.159807              7.0  \n",
       "2               199         2      6723.470560             46.0  \n",
       "3               199         2      5809.911100             32.0  \n",
       "4               199         3      7003.499363             56.0  "
      ]
     },
     "execution_count": 31,
     "metadata": {},
     "output_type": "execute_result"
    }
   ],
   "source": [
    "data['duration'] =  np.ceil(data['duration']) \n",
    "data_amount = pd.pivot_table(data, \n",
    "                             index=['user_id','month', 'subscription_type', 'minute_price',\t'start_ride_price',\t'subscription_fee'] , \n",
    "                             values=['distance', 'duration', 'city'], \n",
    "                             aggfunc={'distance': \"sum\", 'city': \"count\", 'duration': \"sum\"}).reset_index()\n",
    "data_amount = data_amount.rename(columns={'city': 'quantity', \n",
    "                                          'distance': 'distance_amount',\n",
    "                                          'duration': 'duration_amount'})\n",
    "data_amount.head()"
   ]
  },
  {
   "cell_type": "code",
   "execution_count": 32,
   "id": "74226dd0",
   "metadata": {},
   "outputs": [
    {
     "data": {
      "text/html": [
       "<div>\n",
       "<style scoped>\n",
       "    .dataframe tbody tr th:only-of-type {\n",
       "        vertical-align: middle;\n",
       "    }\n",
       "\n",
       "    .dataframe tbody tr th {\n",
       "        vertical-align: top;\n",
       "    }\n",
       "\n",
       "    .dataframe thead th {\n",
       "        text-align: right;\n",
       "    }\n",
       "</style>\n",
       "<table border=\"1\" class=\"dataframe\">\n",
       "  <thead>\n",
       "    <tr style=\"text-align: right;\">\n",
       "      <th></th>\n",
       "      <th>user_id</th>\n",
       "      <th>month</th>\n",
       "      <th>minute_price</th>\n",
       "      <th>start_ride_price</th>\n",
       "      <th>subscription_fee</th>\n",
       "      <th>quantity</th>\n",
       "      <th>distance_amount</th>\n",
       "      <th>duration_amount</th>\n",
       "    </tr>\n",
       "  </thead>\n",
       "  <tbody>\n",
       "    <tr>\n",
       "      <th>count</th>\n",
       "      <td>11331.000000</td>\n",
       "      <td>11331.000000</td>\n",
       "      <td>11331.000000</td>\n",
       "      <td>11331.000000</td>\n",
       "      <td>11331.000000</td>\n",
       "      <td>11331.000000</td>\n",
       "      <td>11331.000000</td>\n",
       "      <td>11331.000000</td>\n",
       "    </tr>\n",
       "    <tr>\n",
       "      <th>mean</th>\n",
       "      <td>811.061160</td>\n",
       "      <td>6.477539</td>\n",
       "      <td>7.199894</td>\n",
       "      <td>29.997352</td>\n",
       "      <td>79.610537</td>\n",
       "      <td>1.594564</td>\n",
       "      <td>4896.362584</td>\n",
       "      <td>29.186127</td>\n",
       "    </tr>\n",
       "    <tr>\n",
       "      <th>std</th>\n",
       "      <td>440.350798</td>\n",
       "      <td>3.443928</td>\n",
       "      <td>0.979861</td>\n",
       "      <td>24.496519</td>\n",
       "      <td>97.496144</td>\n",
       "      <td>0.831604</td>\n",
       "      <td>2911.516556</td>\n",
       "      <td>16.752464</td>\n",
       "    </tr>\n",
       "    <tr>\n",
       "      <th>min</th>\n",
       "      <td>1.000000</td>\n",
       "      <td>1.000000</td>\n",
       "      <td>6.000000</td>\n",
       "      <td>0.000000</td>\n",
       "      <td>0.000000</td>\n",
       "      <td>1.000000</td>\n",
       "      <td>2.570787</td>\n",
       "      <td>1.000000</td>\n",
       "    </tr>\n",
       "    <tr>\n",
       "      <th>25%</th>\n",
       "      <td>435.000000</td>\n",
       "      <td>4.000000</td>\n",
       "      <td>6.000000</td>\n",
       "      <td>0.000000</td>\n",
       "      <td>0.000000</td>\n",
       "      <td>1.000000</td>\n",
       "      <td>2972.202146</td>\n",
       "      <td>17.000000</td>\n",
       "    </tr>\n",
       "    <tr>\n",
       "      <th>50%</th>\n",
       "      <td>843.000000</td>\n",
       "      <td>6.000000</td>\n",
       "      <td>8.000000</td>\n",
       "      <td>50.000000</td>\n",
       "      <td>0.000000</td>\n",
       "      <td>1.000000</td>\n",
       "      <td>3988.723985</td>\n",
       "      <td>24.000000</td>\n",
       "    </tr>\n",
       "    <tr>\n",
       "      <th>75%</th>\n",
       "      <td>1191.000000</td>\n",
       "      <td>9.000000</td>\n",
       "      <td>8.000000</td>\n",
       "      <td>50.000000</td>\n",
       "      <td>199.000000</td>\n",
       "      <td>2.000000</td>\n",
       "      <td>6421.375890</td>\n",
       "      <td>38.000000</td>\n",
       "    </tr>\n",
       "    <tr>\n",
       "      <th>max</th>\n",
       "      <td>1534.000000</td>\n",
       "      <td>12.000000</td>\n",
       "      <td>8.000000</td>\n",
       "      <td>50.000000</td>\n",
       "      <td>199.000000</td>\n",
       "      <td>7.000000</td>\n",
       "      <td>23429.487786</td>\n",
       "      <td>143.000000</td>\n",
       "    </tr>\n",
       "  </tbody>\n",
       "</table>\n",
       "</div>"
      ],
      "text/plain": [
       "            user_id         month  minute_price  start_ride_price  \\\n",
       "count  11331.000000  11331.000000  11331.000000      11331.000000   \n",
       "mean     811.061160      6.477539      7.199894         29.997352   \n",
       "std      440.350798      3.443928      0.979861         24.496519   \n",
       "min        1.000000      1.000000      6.000000          0.000000   \n",
       "25%      435.000000      4.000000      6.000000          0.000000   \n",
       "50%      843.000000      6.000000      8.000000         50.000000   \n",
       "75%     1191.000000      9.000000      8.000000         50.000000   \n",
       "max     1534.000000     12.000000      8.000000         50.000000   \n",
       "\n",
       "       subscription_fee      quantity  distance_amount  duration_amount  \n",
       "count      11331.000000  11331.000000     11331.000000     11331.000000  \n",
       "mean          79.610537      1.594564      4896.362584        29.186127  \n",
       "std           97.496144      0.831604      2911.516556        16.752464  \n",
       "min            0.000000      1.000000         2.570787         1.000000  \n",
       "25%            0.000000      1.000000      2972.202146        17.000000  \n",
       "50%            0.000000      1.000000      3988.723985        24.000000  \n",
       "75%          199.000000      2.000000      6421.375890        38.000000  \n",
       "max          199.000000      7.000000     23429.487786       143.000000  "
      ]
     },
     "execution_count": 32,
     "metadata": {},
     "output_type": "execute_result"
    }
   ],
   "source": [
    "data_amount.describe()"
   ]
  },
  {
   "cell_type": "markdown",
   "id": "f8321438",
   "metadata": {},
   "source": [
    "Расчитаем помесячную выручку, которую принёс каждый пользователь. \n",
    "\n",
    "Помесячная выручка считается по формуле: стоимость старта поездки × количество поездок + стоимость одной минуты поездки × общая продолжительность всех поездок в минутах + стоимость подписки."
   ]
  },
  {
   "cell_type": "code",
   "execution_count": 33,
   "id": "0a1cbad0",
   "metadata": {
    "scrolled": true
   },
   "outputs": [
    {
     "data": {
      "text/html": [
       "<div>\n",
       "<style scoped>\n",
       "    .dataframe tbody tr th:only-of-type {\n",
       "        vertical-align: middle;\n",
       "    }\n",
       "\n",
       "    .dataframe tbody tr th {\n",
       "        vertical-align: top;\n",
       "    }\n",
       "\n",
       "    .dataframe thead th {\n",
       "        text-align: right;\n",
       "    }\n",
       "</style>\n",
       "<table border=\"1\" class=\"dataframe\">\n",
       "  <thead>\n",
       "    <tr style=\"text-align: right;\">\n",
       "      <th></th>\n",
       "      <th>user_id</th>\n",
       "      <th>month</th>\n",
       "      <th>minute_price</th>\n",
       "      <th>start_ride_price</th>\n",
       "      <th>subscription_fee</th>\n",
       "      <th>quantity</th>\n",
       "      <th>distance_amount</th>\n",
       "      <th>duration_amount</th>\n",
       "      <th>revenue</th>\n",
       "    </tr>\n",
       "  </thead>\n",
       "  <tbody>\n",
       "    <tr>\n",
       "      <th>count</th>\n",
       "      <td>11331.000000</td>\n",
       "      <td>11331.000000</td>\n",
       "      <td>11331.000000</td>\n",
       "      <td>11331.000000</td>\n",
       "      <td>11331.000000</td>\n",
       "      <td>11331.000000</td>\n",
       "      <td>11331.000000</td>\n",
       "      <td>11331.000000</td>\n",
       "      <td>11331.000000</td>\n",
       "    </tr>\n",
       "    <tr>\n",
       "      <th>mean</th>\n",
       "      <td>811.061160</td>\n",
       "      <td>6.477539</td>\n",
       "      <td>7.199894</td>\n",
       "      <td>29.997352</td>\n",
       "      <td>79.610537</td>\n",
       "      <td>1.594564</td>\n",
       "      <td>4896.362584</td>\n",
       "      <td>29.186127</td>\n",
       "      <td>342.303504</td>\n",
       "    </tr>\n",
       "    <tr>\n",
       "      <th>std</th>\n",
       "      <td>440.350798</td>\n",
       "      <td>3.443928</td>\n",
       "      <td>0.979861</td>\n",
       "      <td>24.496519</td>\n",
       "      <td>97.496144</td>\n",
       "      <td>0.831604</td>\n",
       "      <td>2911.516556</td>\n",
       "      <td>16.752464</td>\n",
       "      <td>153.875346</td>\n",
       "    </tr>\n",
       "    <tr>\n",
       "      <th>min</th>\n",
       "      <td>1.000000</td>\n",
       "      <td>1.000000</td>\n",
       "      <td>6.000000</td>\n",
       "      <td>0.000000</td>\n",
       "      <td>0.000000</td>\n",
       "      <td>1.000000</td>\n",
       "      <td>2.570787</td>\n",
       "      <td>1.000000</td>\n",
       "      <td>58.000000</td>\n",
       "    </tr>\n",
       "    <tr>\n",
       "      <th>25%</th>\n",
       "      <td>435.000000</td>\n",
       "      <td>4.000000</td>\n",
       "      <td>6.000000</td>\n",
       "      <td>0.000000</td>\n",
       "      <td>0.000000</td>\n",
       "      <td>1.000000</td>\n",
       "      <td>2972.202146</td>\n",
       "      <td>17.000000</td>\n",
       "      <td>234.000000</td>\n",
       "    </tr>\n",
       "    <tr>\n",
       "      <th>50%</th>\n",
       "      <td>843.000000</td>\n",
       "      <td>6.000000</td>\n",
       "      <td>8.000000</td>\n",
       "      <td>50.000000</td>\n",
       "      <td>0.000000</td>\n",
       "      <td>1.000000</td>\n",
       "      <td>3988.723985</td>\n",
       "      <td>24.000000</td>\n",
       "      <td>319.000000</td>\n",
       "    </tr>\n",
       "    <tr>\n",
       "      <th>75%</th>\n",
       "      <td>1191.000000</td>\n",
       "      <td>9.000000</td>\n",
       "      <td>8.000000</td>\n",
       "      <td>50.000000</td>\n",
       "      <td>199.000000</td>\n",
       "      <td>2.000000</td>\n",
       "      <td>6421.375890</td>\n",
       "      <td>38.000000</td>\n",
       "      <td>415.000000</td>\n",
       "    </tr>\n",
       "    <tr>\n",
       "      <th>max</th>\n",
       "      <td>1534.000000</td>\n",
       "      <td>12.000000</td>\n",
       "      <td>8.000000</td>\n",
       "      <td>50.000000</td>\n",
       "      <td>199.000000</td>\n",
       "      <td>7.000000</td>\n",
       "      <td>23429.487786</td>\n",
       "      <td>143.000000</td>\n",
       "      <td>1444.000000</td>\n",
       "    </tr>\n",
       "  </tbody>\n",
       "</table>\n",
       "</div>"
      ],
      "text/plain": [
       "            user_id         month  minute_price  start_ride_price  \\\n",
       "count  11331.000000  11331.000000  11331.000000      11331.000000   \n",
       "mean     811.061160      6.477539      7.199894         29.997352   \n",
       "std      440.350798      3.443928      0.979861         24.496519   \n",
       "min        1.000000      1.000000      6.000000          0.000000   \n",
       "25%      435.000000      4.000000      6.000000          0.000000   \n",
       "50%      843.000000      6.000000      8.000000         50.000000   \n",
       "75%     1191.000000      9.000000      8.000000         50.000000   \n",
       "max     1534.000000     12.000000      8.000000         50.000000   \n",
       "\n",
       "       subscription_fee      quantity  distance_amount  duration_amount  \\\n",
       "count      11331.000000  11331.000000     11331.000000     11331.000000   \n",
       "mean          79.610537      1.594564      4896.362584        29.186127   \n",
       "std           97.496144      0.831604      2911.516556        16.752464   \n",
       "min            0.000000      1.000000         2.570787         1.000000   \n",
       "25%            0.000000      1.000000      2972.202146        17.000000   \n",
       "50%            0.000000      1.000000      3988.723985        24.000000   \n",
       "75%          199.000000      2.000000      6421.375890        38.000000   \n",
       "max          199.000000      7.000000     23429.487786       143.000000   \n",
       "\n",
       "            revenue  \n",
       "count  11331.000000  \n",
       "mean     342.303504  \n",
       "std      153.875346  \n",
       "min       58.000000  \n",
       "25%      234.000000  \n",
       "50%      319.000000  \n",
       "75%      415.000000  \n",
       "max     1444.000000  "
      ]
     },
     "execution_count": 33,
     "metadata": {},
     "output_type": "execute_result"
    }
   ],
   "source": [
    "data_amount['revenue'] = np.ceil(data_amount['start_ride_price']*data_amount['quantity']    \n",
    "                          + data_amount['minute_price']*data_amount['duration_amount']    \n",
    "                          +data_amount['subscription_fee'])\n",
    "data_amount.describe()"
   ]
  },
  {
   "cell_type": "code",
   "execution_count": 34,
   "id": "a9080892",
   "metadata": {},
   "outputs": [
    {
     "data": {
      "text/html": [
       "<div>\n",
       "<style scoped>\n",
       "    .dataframe tbody tr th:only-of-type {\n",
       "        vertical-align: middle;\n",
       "    }\n",
       "\n",
       "    .dataframe tbody tr th {\n",
       "        vertical-align: top;\n",
       "    }\n",
       "\n",
       "    .dataframe thead th {\n",
       "        text-align: right;\n",
       "    }\n",
       "</style>\n",
       "<table border=\"1\" class=\"dataframe\">\n",
       "  <thead>\n",
       "    <tr style=\"text-align: right;\">\n",
       "      <th></th>\n",
       "      <th>user_id</th>\n",
       "      <th>month</th>\n",
       "      <th>subscription_type</th>\n",
       "      <th>minute_price</th>\n",
       "      <th>start_ride_price</th>\n",
       "      <th>subscription_fee</th>\n",
       "      <th>quantity</th>\n",
       "      <th>distance_amount</th>\n",
       "      <th>duration_amount</th>\n",
       "      <th>revenue</th>\n",
       "    </tr>\n",
       "  </thead>\n",
       "  <tbody>\n",
       "    <tr>\n",
       "      <th>0</th>\n",
       "      <td>1</td>\n",
       "      <td>1</td>\n",
       "      <td>ultra</td>\n",
       "      <td>6</td>\n",
       "      <td>0</td>\n",
       "      <td>199</td>\n",
       "      <td>2</td>\n",
       "      <td>7027.511294</td>\n",
       "      <td>42.0</td>\n",
       "      <td>451.0</td>\n",
       "    </tr>\n",
       "    <tr>\n",
       "      <th>1</th>\n",
       "      <td>1</td>\n",
       "      <td>4</td>\n",
       "      <td>ultra</td>\n",
       "      <td>6</td>\n",
       "      <td>0</td>\n",
       "      <td>199</td>\n",
       "      <td>1</td>\n",
       "      <td>754.159807</td>\n",
       "      <td>7.0</td>\n",
       "      <td>241.0</td>\n",
       "    </tr>\n",
       "    <tr>\n",
       "      <th>2</th>\n",
       "      <td>1</td>\n",
       "      <td>8</td>\n",
       "      <td>ultra</td>\n",
       "      <td>6</td>\n",
       "      <td>0</td>\n",
       "      <td>199</td>\n",
       "      <td>2</td>\n",
       "      <td>6723.470560</td>\n",
       "      <td>46.0</td>\n",
       "      <td>475.0</td>\n",
       "    </tr>\n",
       "    <tr>\n",
       "      <th>3</th>\n",
       "      <td>1</td>\n",
       "      <td>10</td>\n",
       "      <td>ultra</td>\n",
       "      <td>6</td>\n",
       "      <td>0</td>\n",
       "      <td>199</td>\n",
       "      <td>2</td>\n",
       "      <td>5809.911100</td>\n",
       "      <td>32.0</td>\n",
       "      <td>391.0</td>\n",
       "    </tr>\n",
       "    <tr>\n",
       "      <th>4</th>\n",
       "      <td>1</td>\n",
       "      <td>11</td>\n",
       "      <td>ultra</td>\n",
       "      <td>6</td>\n",
       "      <td>0</td>\n",
       "      <td>199</td>\n",
       "      <td>3</td>\n",
       "      <td>7003.499363</td>\n",
       "      <td>56.0</td>\n",
       "      <td>535.0</td>\n",
       "    </tr>\n",
       "  </tbody>\n",
       "</table>\n",
       "</div>"
      ],
      "text/plain": [
       "   user_id  month subscription_type  minute_price  start_ride_price  \\\n",
       "0        1      1             ultra             6                 0   \n",
       "1        1      4             ultra             6                 0   \n",
       "2        1      8             ultra             6                 0   \n",
       "3        1     10             ultra             6                 0   \n",
       "4        1     11             ultra             6                 0   \n",
       "\n",
       "   subscription_fee  quantity  distance_amount  duration_amount  revenue  \n",
       "0               199         2      7027.511294             42.0    451.0  \n",
       "1               199         1       754.159807              7.0    241.0  \n",
       "2               199         2      6723.470560             46.0    475.0  \n",
       "3               199         2      5809.911100             32.0    391.0  \n",
       "4               199         3      7003.499363             56.0    535.0  "
      ]
     },
     "execution_count": 34,
     "metadata": {},
     "output_type": "execute_result"
    }
   ],
   "source": [
    "data_amount.head()"
   ]
  },
  {
   "cell_type": "markdown",
   "id": "400a2a9b",
   "metadata": {},
   "source": [
    "data_amount - датафрейм с агрегированными данными о поездках. \n",
    "\n",
    "Для каждого пользователя посчитано суммарное расстояние, количество поездок, суммарное время и доход за каждый месяц. "
   ]
  },
  {
   "cell_type": "markdown",
   "id": "41545ac0",
   "metadata": {},
   "source": [
    "### Проверка гипотез"
   ]
  },
  {
   "cell_type": "markdown",
   "id": "d60a7a4c",
   "metadata": {},
   "source": [
    "#### Гипотеза 1. Тратят ли пользователи с подпиской бошльше времени на поездки?"
   ]
  },
  {
   "cell_type": "markdown",
   "id": "8d6bc8ac",
   "metadata": {},
   "source": [
    "- Нулевая гипотеза: среднее значения времени, затраченного на поездку, пользователей с подпиской и без равны.\n",
    "- Альтернативная гипотеза: среднее значение времени, затраченного на поездку, пользователей с подпиской больше, чем среднее значение времени пользователей без подписки\n",
    "\n",
    "- Уровень статистической значимости установим на 5% (.05)"
   ]
  },
  {
   "cell_type": "code",
   "execution_count": 35,
   "id": "30696fa3",
   "metadata": {},
   "outputs": [
    {
     "name": "stdout",
     "output_type": "stream",
     "text": [
      "среднее время одной поездки для пользователей с подпиской 18.54\n",
      "среднее время одной поездки для пользователей без подписки 17.39\n",
      "------------------------------------------------------------\n",
      "p-value: 1.2804098316645618e-34\n",
      "Отвергаем нулевую гипотезу\n"
     ]
    }
   ],
   "source": [
    "# задаём уровень значимости\n",
    "alpha = 0.05\n",
    "\n",
    "print(f\"среднее время одной поездки для пользователей с подпиской {data_ultra['duration'].mean().round(2)}\")\n",
    "print(f\"среднее время одной поездки для пользователей без подписки {data_free['duration'].mean().round(2)}\")\n",
    "print(\"-\"*60)\n",
    "# проводим ttest для двух выборок, в качестве альтернативной используем одностороннюю гипотезу «больше»\n",
    "results = st.ttest_ind(data_ultra['duration'], data_free['duration'], alternative='greater')\n",
    "\n",
    "print(f'p-value: {results.pvalue}')\n",
    "\n",
    "# проверяем p-value\n",
    "if results.pvalue < alpha:\n",
    "    print('Отвергаем нулевую гипотезу')\n",
    "else:\n",
    "    print('Нет оснований отвергнуть нулевую гипотезу')"
   ]
  },
  {
   "cell_type": "markdown",
   "id": "2e5718b3",
   "metadata": {},
   "source": [
    "Есть основания говорить, что пользователи с подпиской больше времени тратат на поездки и тем самым более выгодны для сервиса."
   ]
  },
  {
   "cell_type": "markdown",
   "id": "8725023b",
   "metadata": {},
   "source": [
    "#### Гипотеза 2. Можно ли сказать, что среднее расстояние, которое проезжают пользователи с подпиской за одну поездку, не превышает 3130 метров?"
   ]
  },
  {
   "cell_type": "markdown",
   "id": "37c226a9",
   "metadata": {},
   "source": [
    "Проведем одновыборочный ttest о равенстве среднего генеральной совокупности числу \n",
    "\n",
    "- Нулевая гипотеза: среднее расстояние, которое проезжают пользователи с подпиской за одну поездку равно 3130 метров.\n",
    "- Альтернативная гипотеза: среднее расстояние, которое проезжают пользователи с подпиской за одну поездку больше 3130 метров. \n"
   ]
  },
  {
   "cell_type": "code",
   "execution_count": 36,
   "id": "c416e805",
   "metadata": {},
   "outputs": [
    {
     "name": "stdout",
     "output_type": "stream",
     "text": [
      "Среднее расстояние за одну поездку для пользователей с подпиской 3115.45\n",
      "------------------------------------------------------------\n",
      "p-значение: 0.9195368847849785\n",
      "Не получилось отвергнуть нулевую гипотезу\n"
     ]
    }
   ],
   "source": [
    "interested_value = 3130 # столько метров должны проезжать пользователи с подпиской за одну поездку\n",
    "\n",
    "alpha = 0.05 # уровень статистической значимости\n",
    "\n",
    "print(f\"Среднее расстояние за одну поездку для пользователей с подпиской {data_ultra['distance'].mean().round(2)}\")\n",
    "print(\"-\"*60)\n",
    "results = st.ttest_1samp(data_ultra['distance'], interested_value, alternative = 'greater')\n",
    "\n",
    "print('p-значение:', results.pvalue)\n",
    "\n",
    "if results.pvalue < alpha:\n",
    "    print('Отвергаем нулевую гипотезу')\n",
    "else:\n",
    "    print('Не получилось отвергнуть нулевую гипотезу')"
   ]
  },
  {
   "cell_type": "markdown",
   "id": "15940468",
   "metadata": {},
   "source": [
    "Согласно расчету гипотеза о том, что среднее расстояние, которое проезждают пользователи с подпиской не превышает 3130 м, не может быть опровергнута. "
   ]
  },
  {
   "cell_type": "markdown",
   "id": "3f140c10",
   "metadata": {},
   "source": [
    "#### Гипотеза 3 Помесячная выручка от пользователей с подпиской по месяцам выше, чем выручка от пользователей без подписки.\n"
   ]
  },
  {
   "cell_type": "markdown",
   "id": "b413d4dc",
   "metadata": {},
   "source": [
    "Проведем двухвыборочный ttest для двух независимых выборок\n",
    "- Нулевая гипотеза: выручка от пользователей с подпиской равна выручке от пользователей без подписки\n",
    "- Альтернативная гипотеза: выручка от пользователей с подпиской  выше выручки от пользователей без попдиски."
   ]
  },
  {
   "cell_type": "code",
   "execution_count": 37,
   "id": "57875477",
   "metadata": {},
   "outputs": [
    {
     "name": "stdout",
     "output_type": "stream",
     "text": [
      "средняя выручка от пользователей с подпиской 362.79\n",
      "среднее выручка от пользователей без подписки 328.64\n",
      "------------------------------------------------------------\n",
      "p-value: 1.8850394384715216e-31\n",
      "Отвергаем нулевую гипотезу\n"
     ]
    }
   ],
   "source": [
    "# задаём уровень значимости\n",
    "alpha = 0.05\n",
    "# вынесем выборки в отдельную переменную\n",
    "ultra = data_amount.query('subscription_type == \"ultra\"')['revenue']\n",
    "free =  data_amount.query('subscription_type == \"free\"')['revenue']\n",
    "\n",
    "print(f\"средняя выручка от пользователей с подпиской {ultra.mean().round(2)}\")\n",
    "print(f\"среднее выручка от пользователей без подписки {free.mean().round(2)}\")\n",
    "\n",
    "print(\"-\"*60)\n",
    "\n",
    "# проводим ttest для двух выборок, в качестве альтернативной используем одностороннюю гипотезу «больше»\n",
    "results = st.ttest_ind(ultra, free, alternative='greater')\n",
    "\n",
    "print(f'p-value: {results.pvalue}')\n",
    "\n",
    "# проверяем p-value\n",
    "if results.pvalue < alpha:\n",
    "    print('Отвергаем нулевую гипотезу')\n",
    "else:\n",
    "    print('Нет оснований отвергнуть нулевую гипотезу')"
   ]
  },
  {
   "cell_type": "markdown",
   "id": "30228c3a",
   "metadata": {},
   "source": [
    "Можно утверждать, что пользователи с подпиской более выгодны компании."
   ]
  },
  {
   "cell_type": "markdown",
   "id": "61b8375d",
   "metadata": {},
   "source": [
    "#### Гипотеза 4. После обновления сервера количество обращений в техническую поддержку снизилось."
   ]
  },
  {
   "cell_type": "markdown",
   "id": "1e13221f",
   "metadata": {},
   "source": [
    "Для проверки данной гипотезы лучше всего провести двухвыборочный ttest для зависимых выборок\n",
    "\n",
    "scipy.stats_ttest(rel))\n",
    "\n",
    "- Нулевая гипотеза: количество обращений до и после обновления сервера равны.\n",
    "- Альтернативная гипотеза: количество обращений после обновления сервера стало меньше.\n"
   ]
  },
  {
   "cell_type": "markdown",
   "id": "61213c5e",
   "metadata": {},
   "source": [
    "### Распределения"
   ]
  },
  {
   "cell_type": "markdown",
   "id": "3dbf7a4c",
   "metadata": {},
   "source": [
    "#### Какаое количество промокодов нужно раздать, чтобы получить нужный приток пользователей с подпиской."
   ]
  },
  {
   "cell_type": "markdown",
   "id": "a0b6cea9",
   "metadata": {},
   "source": [
    "Задача: по завершению промомесяца 100 клиентов должны оплатить (продлить) подписку.\n",
    "\n",
    "Известно, что с вероятностью 10% пользователь продлит подписку на следующий месяц.\n",
    "\n",
    "Вероятность получить менее 100 новых подписчиков не должна превышать 5%"
   ]
  },
  {
   "cell_type": "code",
   "execution_count": 46,
   "id": "9af9e5dc",
   "metadata": {},
   "outputs": [
    {
     "data": {
      "image/png": "[encoded data removed]",
      "text/plain": [
       "<Figure size 700x700 with 1 Axes>"
      ]
     },
     "metadata": {},
     "output_type": "display_data"
    }
   ],
   "source": [
    "p = 0.1 # вероятность, что клиент продлит подписку\n",
    "n = 1650 # количество промокодов на бесплатную подписку на месяц \n",
    "\n",
    "distr=[] # список, в котором будем хранить значения распределения\n",
    "t = int(n/10)\n",
    "for k in range(0, (t + 1)):\n",
    "    current_value = binom.cdf(k, t, p)\n",
    "    distr.append(current_value)\n",
    "    \n",
    "plt.figure(figsize = (7,7))\n",
    "plt.title('Вероятность получить нужный приток пользователей с подпиской')\n",
    "plt.xlabel('Пользователи, продлившие подписку')\n",
    "plt.ylabel('Количество')\n",
    "plt.bar(range(0, t + 1), distr)\n",
    "ticks = []\n",
    "for i in range (0,100, 5):\n",
    "    \n",
    "    ticks.append(i/100)\n",
    "plt.yticks(ticks)\n",
    "plt.xlim(0, 30)\n",
    "plt.show()"
   ]
  },
  {
   "cell_type": "code",
   "execution_count": 47,
   "id": "e164031a",
   "metadata": {
    "scrolled": true
   },
   "outputs": [
    {
     "name": "stdout",
     "output_type": "stream",
     "text": [
      "Вывод:\n",
      "------------------------------------------------------------\n",
      "Чтобы с вероятностью не менее 95% получить 100 клиентов,\n",
      "продливших подписку, нужно раздать не менее 1650 промокодов\n"
     ]
    }
   ],
   "source": [
    "print('Вывод:')\n",
    "print('-'*60)\n",
    "print(f'Чтобы с вероятностью не менее 95% получить 100 клиентов,')\n",
    "print(f'продливших подписку, нужно раздать не менее {n} промокодов')"
   ]
  },
  {
   "cell_type": "markdown",
   "id": "ccbcaff8",
   "metadata": {},
   "source": [
    "#### Оценить успешность рассылки"
   ]
  },
  {
   "cell_type": "markdown",
   "id": "19bc97da",
   "metadata": {},
   "source": [
    "Отдел маркетинга рассылает клиентам push-уведомления в мобильном приложении. \n",
    "Клиенты могут открыть его или не открывать. \n",
    "\n",
    "- Известно, что уведомления открывают около 40 % получивших клиентов. \n",
    "- Отдел планирует разослать 1 млн уведомлений.\n",
    "\n",
    "- С помощью аппроксимации построим примерный график распределения и оценим вероятность того, что уведомление откроют не более 399,5 тыс. пользователей."
   ]
  },
  {
   "cell_type": "markdown",
   "id": "549745fb",
   "metadata": {},
   "source": [
    "Вероятность открыть приложение после push уведомления достаточно велика. Так что можно аппроксимировать ее нормальным распределением.\n"
   ]
  },
  {
   "cell_type": "code",
   "execution_count": 48,
   "id": "0dedb21c",
   "metadata": {},
   "outputs": [
    {
     "data": {
      "image/png": "[encoded data removed]",
      "text/plain": [
       "<Figure size 700x700 with 1 Axes>"
      ]
     },
     "metadata": {},
     "output_type": "display_data"
    }
   ],
   "source": [
    "from math import sqrt\n",
    "\n",
    "# задаём параметры биномиального распределения\n",
    "n = 1000000\n",
    "p = 0.4\n",
    "t=int(n/10000)\n",
    "# зададим мат.ожидание и ст.отклонение нормального распределения равными\n",
    "# мат.ожиданию и ст.отклонению биномиального распределения\n",
    "mu = t * p\n",
    "sigma = sqrt(t * p * (1 - p))\n",
    "\n",
    "\n",
    "# зададим функцию, которая выдаёт <num> чисел,\n",
    "# равномерно распределённых от <start> до <stop>\n",
    "# (понадобится для визуализации нормального распределения)\n",
    "def linspace(start, stop, num):\n",
    "    step = (stop - start) / (num - 1)\n",
    "    result = []\n",
    "    for i in range(num):\n",
    "        result.append(start + step * i)\n",
    "    return result\n",
    "# границы промежутка, в котором будем строить аппроксимацию -\n",
    "# от n*p минус 4 ст.отклонения бином.распределения\n",
    "# до n*p плюс 4 ст.отклонения бином.распределения\n",
    "# (там, где вероятности значений почти не равны нулю)\n",
    "\n",
    "left = int(t * p - 4 * sqrt(t * p * (1 - p)))\n",
    "right = int(t * p + 4 * sqrt(t * p * (1 - p)))\n",
    "x = linspace(left, right, 100)\n",
    "# задаём нормальное распределение\n",
    "distr = norm.cdf(x, mu, sigma) \n",
    "\n",
    "plt.figure(figsize = (7,7))\n",
    "\n",
    "plt.bar(x, distr)\n",
    "\n",
    "plt.show()\n"
   ]
  },
  {
   "cell_type": "code",
   "execution_count": 49,
   "id": "bef26b71",
   "metadata": {},
   "outputs": [
    {
     "name": "stdout",
     "output_type": "stream",
     "text": [
      "Вероятность получить не более 399.5 тыс. пользователей - 15.37 %\n"
     ]
    }
   ],
   "source": [
    "# задаём параметры биномиального распределения\n",
    "n = 1000000\n",
    "p = 0.4\n",
    "x = 399500 # желаемая величина\n",
    "# зададим мат.ожидание и ст.отклонение нормального распределения равными\n",
    "# мат.ожиданию и ст.отклонению биномиального распределения\n",
    "mu = n * p\n",
    "sigma = sqrt(n * p * (1 - p))\n",
    "\n",
    "# задаём нормальное распределение\n",
    "distr = st.norm(mu, sigma) \n",
    "\n",
    "# считаем вероятность хвоста слева от x\n",
    "result = distr.cdf(x)\n",
    "print(f'Вероятность получить не более 399.5 тыс. пользователей - {(result*100).round(2)} %')"
   ]
  },
  {
   "cell_type": "markdown",
   "id": "f2f248ab",
   "metadata": {},
   "source": [
    "### Выводы"
   ]
  },
  {
   "cell_type": "markdown",
   "id": "a9aabec6",
   "metadata": {},
   "source": [
    "Для проведения исследования была получена выборка из генеральной совокупности, а именно данные о некоторых пользователях сервиса проката самокатов GoFast\n",
    "\n",
    "- Набор данных достаточен для анализа\n",
    "- Выборка репрезентативна.\n",
    "\n",
    "В ходе предобработки данных:\n",
    "- удалены явные дубликаты (31шт)\n",
    "- в формат времени переведено значение столбца date в датафрейме rides\n",
    "- добавлен столбец с месяцем поездки\n",
    "\n",
    "В ходе исследовательского анализа данных было установлено:\n",
    "\n",
    "- Средний возраст пользователей 25 лет\n",
    "- Диапазон от 12 до 43 лет\n",
    "- Среднее расстояние 3133.6 метров, расстояние не превышает 6 км\n",
    "- Средняя продолжительность поездки 17,6 мин, максимальное значение не превышает 40 минут\n",
    "- Больше всего поездок в Пятигорске, меньше всего в Москве\n",
    "- Пользователей без подписки больше\n",
    "\n",
    "Для проверки гипотез был создан отдельный датафрейм с суммарным расстоянием, количество поездок и суммарным временем для каждого пользователя за каждый месяц.\n",
    "\n",
    "В ходе проверки гипотез были получены следующие выводы:\n",
    "\n",
    "- Пользователи с подпиской больше времени тратат на поездки и тем самым более выгодны для сервиса.\n",
    "- Можно утверждать, что среднее расстояние за одну поездку для пользователей с подпиской не превышает 3130 метров.\n",
    "- Выручка от пользователей с подпиской выше выручки от пользователей без попдиски.\n",
    "- Чтобы проверить гипотезу, что после обновления сервера количество обращений в техническую поддержку снизилось нужно провести двухвыборочный ttest для зависимых выборок scipy.stats_ttest(rel)) \n",
    "\n",
    "На основании распределений:\n",
    "\n",
    "- Чтобы с вероятностью не менее 95% получить 100 клиентов, продливших подписку, нужно раздать не менее 1650 промокодов\n",
    "\n",
    "- Вероятность получить не более 399.5 тыс. откликов - 15.37 % при рассылке в 1млн."
   ]
  },
  {
   "cell_type": "code",
   "execution_count": null,
   "id": "3e6b67c2",
   "metadata": {},
   "outputs": [],
   "source": []
  }
 ],
 "metadata": {
  "ExecuteTimeLog": [
   {
    "duration": 1063,
    "start_time": "2024-09-26T16:55:39.285Z"
   },
   {
    "duration": 137,
    "start_time": "2024-09-26T16:55:40.349Z"
   },
   {
    "duration": 0,
    "start_time": "2024-09-26T16:55:40.492Z"
   },
   {
    "duration": 0,
    "start_time": "2024-09-26T16:55:40.493Z"
   },
   {
    "duration": 0,
    "start_time": "2024-09-26T16:55:40.495Z"
   },
   {
    "duration": 0,
    "start_time": "2024-09-26T16:55:40.496Z"
   },
   {
    "duration": 0,
    "start_time": "2024-09-26T16:55:40.497Z"
   },
   {
    "duration": 0,
    "start_time": "2024-09-26T16:55:40.498Z"
   },
   {
    "duration": 0,
    "start_time": "2024-09-26T16:55:40.499Z"
   },
   {
    "duration": 0,
    "start_time": "2024-09-26T16:55:40.500Z"
   },
   {
    "duration": 0,
    "start_time": "2024-09-26T16:55:40.507Z"
   },
   {
    "duration": 0,
    "start_time": "2024-09-26T16:55:40.507Z"
   },
   {
    "duration": 0,
    "start_time": "2024-09-26T16:55:40.508Z"
   },
   {
    "duration": 0,
    "start_time": "2024-09-26T16:55:40.509Z"
   },
   {
    "duration": 0,
    "start_time": "2024-09-26T16:55:40.510Z"
   },
   {
    "duration": 0,
    "start_time": "2024-09-26T16:55:40.511Z"
   },
   {
    "duration": 0,
    "start_time": "2024-09-26T16:55:40.512Z"
   },
   {
    "duration": 0,
    "start_time": "2024-09-26T16:55:40.513Z"
   },
   {
    "duration": 0,
    "start_time": "2024-09-26T16:55:40.514Z"
   },
   {
    "duration": 0,
    "start_time": "2024-09-26T16:55:40.515Z"
   },
   {
    "duration": 0,
    "start_time": "2024-09-26T16:55:40.515Z"
   },
   {
    "duration": 0,
    "start_time": "2024-09-26T16:55:40.517Z"
   },
   {
    "duration": 0,
    "start_time": "2024-09-26T16:55:40.517Z"
   },
   {
    "duration": 0,
    "start_time": "2024-09-26T16:55:40.518Z"
   },
   {
    "duration": 0,
    "start_time": "2024-09-26T16:55:40.519Z"
   },
   {
    "duration": 0,
    "start_time": "2024-09-26T16:55:40.520Z"
   },
   {
    "duration": 0,
    "start_time": "2024-09-26T16:55:40.522Z"
   },
   {
    "duration": 0,
    "start_time": "2024-09-26T16:55:40.524Z"
   },
   {
    "duration": 0,
    "start_time": "2024-09-26T16:55:40.525Z"
   },
   {
    "duration": 0,
    "start_time": "2024-09-26T16:55:40.526Z"
   },
   {
    "duration": 0,
    "start_time": "2024-09-26T16:55:40.527Z"
   },
   {
    "duration": 0,
    "start_time": "2024-09-26T16:55:40.528Z"
   },
   {
    "duration": 0,
    "start_time": "2024-09-26T16:55:40.530Z"
   },
   {
    "duration": 0,
    "start_time": "2024-09-26T16:55:40.531Z"
   },
   {
    "duration": 0,
    "start_time": "2024-09-26T16:55:40.532Z"
   },
   {
    "duration": 0,
    "start_time": "2024-09-26T16:55:40.533Z"
   },
   {
    "duration": 0,
    "start_time": "2024-09-26T16:55:40.534Z"
   },
   {
    "duration": 0,
    "start_time": "2024-09-26T16:55:40.535Z"
   },
   {
    "duration": 0,
    "start_time": "2024-09-26T16:55:40.536Z"
   },
   {
    "duration": 0,
    "start_time": "2024-09-26T16:55:40.537Z"
   },
   {
    "duration": 48,
    "start_time": "2024-09-26T19:08:42.262Z"
   },
   {
    "duration": 10,
    "start_time": "2024-09-26T19:08:45.419Z"
   },
   {
    "duration": 1357,
    "start_time": "2024-09-26T19:08:57.238Z"
   },
   {
    "duration": 341,
    "start_time": "2024-09-26T19:08:59.258Z"
   },
   {
    "duration": 1136,
    "start_time": "2024-09-26T19:09:07.703Z"
   },
   {
    "duration": 128,
    "start_time": "2024-09-26T19:09:08.841Z"
   },
   {
    "duration": 24,
    "start_time": "2024-09-26T19:09:08.970Z"
   },
   {
    "duration": 79,
    "start_time": "2024-09-26T19:09:08.996Z"
   },
   {
    "duration": 24,
    "start_time": "2024-09-26T19:09:09.078Z"
   },
   {
    "duration": 66,
    "start_time": "2024-09-26T19:09:09.103Z"
   },
   {
    "duration": 833,
    "start_time": "2024-09-26T19:09:09.171Z"
   },
   {
    "duration": 8,
    "start_time": "2024-09-26T19:09:10.006Z"
   },
   {
    "duration": 31,
    "start_time": "2024-09-26T19:09:10.016Z"
   },
   {
    "duration": 92,
    "start_time": "2024-09-26T19:09:10.049Z"
   },
   {
    "duration": 4,
    "start_time": "2024-09-26T19:09:10.143Z"
   },
   {
    "duration": 15,
    "start_time": "2024-09-26T19:09:10.149Z"
   },
   {
    "duration": 11,
    "start_time": "2024-09-26T19:09:10.166Z"
   },
   {
    "duration": 9,
    "start_time": "2024-09-26T19:09:10.181Z"
   },
   {
    "duration": 18,
    "start_time": "2024-09-26T19:09:10.191Z"
   },
   {
    "duration": 51,
    "start_time": "2024-09-26T19:09:10.210Z"
   },
   {
    "duration": 163,
    "start_time": "2024-09-26T19:09:10.263Z"
   },
   {
    "duration": 182,
    "start_time": "2024-09-26T19:09:10.428Z"
   },
   {
    "duration": 1,
    "start_time": "2024-09-26T19:09:10.611Z"
   },
   {
    "duration": 0,
    "start_time": "2024-09-26T19:09:10.613Z"
   },
   {
    "duration": 0,
    "start_time": "2024-09-26T19:09:10.614Z"
   },
   {
    "duration": 0,
    "start_time": "2024-09-26T19:09:10.615Z"
   },
   {
    "duration": 0,
    "start_time": "2024-09-26T19:09:10.616Z"
   },
   {
    "duration": 0,
    "start_time": "2024-09-26T19:09:10.617Z"
   },
   {
    "duration": 0,
    "start_time": "2024-09-26T19:09:10.618Z"
   },
   {
    "duration": 0,
    "start_time": "2024-09-26T19:09:10.619Z"
   },
   {
    "duration": 0,
    "start_time": "2024-09-26T19:09:10.620Z"
   },
   {
    "duration": 0,
    "start_time": "2024-09-26T19:09:10.621Z"
   },
   {
    "duration": 0,
    "start_time": "2024-09-26T19:09:10.643Z"
   },
   {
    "duration": 0,
    "start_time": "2024-09-26T19:09:10.644Z"
   },
   {
    "duration": 0,
    "start_time": "2024-09-26T19:09:10.645Z"
   },
   {
    "duration": 0,
    "start_time": "2024-09-26T19:09:10.646Z"
   },
   {
    "duration": 0,
    "start_time": "2024-09-26T19:09:10.647Z"
   },
   {
    "duration": 0,
    "start_time": "2024-09-26T19:09:10.648Z"
   },
   {
    "duration": 0,
    "start_time": "2024-09-26T19:09:10.649Z"
   },
   {
    "duration": 0,
    "start_time": "2024-09-26T19:09:10.650Z"
   },
   {
    "duration": 0,
    "start_time": "2024-09-26T19:09:10.651Z"
   },
   {
    "duration": 0,
    "start_time": "2024-09-26T19:09:10.652Z"
   },
   {
    "duration": 0,
    "start_time": "2024-09-26T19:09:10.653Z"
   },
   {
    "duration": 0,
    "start_time": "2024-09-26T19:09:10.654Z"
   },
   {
    "duration": 15,
    "start_time": "2024-09-26T19:11:49.672Z"
   },
   {
    "duration": 6,
    "start_time": "2024-09-26T19:11:55.304Z"
   },
   {
    "duration": 1157,
    "start_time": "2024-09-26T19:12:00.603Z"
   },
   {
    "duration": 237,
    "start_time": "2024-09-26T19:12:01.762Z"
   },
   {
    "duration": 27,
    "start_time": "2024-09-26T19:12:02.000Z"
   },
   {
    "duration": 6,
    "start_time": "2024-09-26T19:12:02.030Z"
   },
   {
    "duration": 8,
    "start_time": "2024-09-26T19:12:02.042Z"
   },
   {
    "duration": 6,
    "start_time": "2024-09-26T19:12:02.052Z"
   },
   {
    "duration": 918,
    "start_time": "2024-09-26T19:12:02.060Z"
   },
   {
    "duration": 8,
    "start_time": "2024-09-26T19:12:02.979Z"
   },
   {
    "duration": 95,
    "start_time": "2024-09-26T19:12:02.988Z"
   },
   {
    "duration": 31,
    "start_time": "2024-09-26T19:12:03.086Z"
   },
   {
    "duration": 83,
    "start_time": "2024-09-26T19:12:03.119Z"
   },
   {
    "duration": 31,
    "start_time": "2024-09-26T19:12:03.204Z"
   },
   {
    "duration": 12,
    "start_time": "2024-09-26T19:12:03.237Z"
   },
   {
    "duration": 20,
    "start_time": "2024-09-26T19:12:03.250Z"
   },
   {
    "duration": 36,
    "start_time": "2024-09-26T19:12:03.271Z"
   },
   {
    "duration": 21,
    "start_time": "2024-09-26T19:12:03.309Z"
   },
   {
    "duration": 171,
    "start_time": "2024-09-26T19:12:03.332Z"
   },
   {
    "duration": 189,
    "start_time": "2024-09-26T19:12:03.505Z"
   },
   {
    "duration": 0,
    "start_time": "2024-09-26T19:12:03.696Z"
   },
   {
    "duration": 0,
    "start_time": "2024-09-26T19:12:03.697Z"
   },
   {
    "duration": 0,
    "start_time": "2024-09-26T19:12:03.698Z"
   },
   {
    "duration": 0,
    "start_time": "2024-09-26T19:12:03.699Z"
   },
   {
    "duration": 0,
    "start_time": "2024-09-26T19:12:03.700Z"
   },
   {
    "duration": 0,
    "start_time": "2024-09-26T19:12:03.701Z"
   },
   {
    "duration": 0,
    "start_time": "2024-09-26T19:12:03.702Z"
   },
   {
    "duration": 0,
    "start_time": "2024-09-26T19:12:03.704Z"
   },
   {
    "duration": 0,
    "start_time": "2024-09-26T19:12:03.704Z"
   },
   {
    "duration": 0,
    "start_time": "2024-09-26T19:12:03.705Z"
   },
   {
    "duration": 0,
    "start_time": "2024-09-26T19:12:03.706Z"
   },
   {
    "duration": 0,
    "start_time": "2024-09-26T19:12:03.707Z"
   },
   {
    "duration": 0,
    "start_time": "2024-09-26T19:12:03.709Z"
   },
   {
    "duration": 0,
    "start_time": "2024-09-26T19:12:03.710Z"
   },
   {
    "duration": 0,
    "start_time": "2024-09-26T19:12:03.711Z"
   },
   {
    "duration": 0,
    "start_time": "2024-09-26T19:12:03.743Z"
   },
   {
    "duration": 0,
    "start_time": "2024-09-26T19:12:03.744Z"
   },
   {
    "duration": 0,
    "start_time": "2024-09-26T19:12:03.745Z"
   },
   {
    "duration": 0,
    "start_time": "2024-09-26T19:12:03.746Z"
   },
   {
    "duration": 0,
    "start_time": "2024-09-26T19:12:03.747Z"
   },
   {
    "duration": 1,
    "start_time": "2024-09-26T19:12:03.748Z"
   },
   {
    "duration": 0,
    "start_time": "2024-09-26T19:12:03.749Z"
   },
   {
    "duration": 10,
    "start_time": "2024-09-26T19:15:44.371Z"
   },
   {
    "duration": 16,
    "start_time": "2024-09-26T19:15:58.220Z"
   },
   {
    "duration": 13,
    "start_time": "2024-09-26T19:16:11.919Z"
   },
   {
    "duration": 4,
    "start_time": "2024-09-26T19:16:16.567Z"
   },
   {
    "duration": 8,
    "start_time": "2024-09-26T19:16:21.902Z"
   },
   {
    "duration": 4,
    "start_time": "2024-09-26T19:16:27.153Z"
   },
   {
    "duration": 4,
    "start_time": "2024-09-26T19:17:23.988Z"
   },
   {
    "duration": 1201,
    "start_time": "2024-09-26T19:17:27.726Z"
   },
   {
    "duration": 124,
    "start_time": "2024-09-26T19:17:28.929Z"
   },
   {
    "duration": 26,
    "start_time": "2024-09-26T19:17:29.055Z"
   },
   {
    "duration": 14,
    "start_time": "2024-09-26T19:17:29.083Z"
   },
   {
    "duration": 14,
    "start_time": "2024-09-26T19:17:29.099Z"
   },
   {
    "duration": 6,
    "start_time": "2024-09-26T19:17:29.115Z"
   },
   {
    "duration": 863,
    "start_time": "2024-09-26T19:17:29.122Z"
   },
   {
    "duration": 12,
    "start_time": "2024-09-26T19:17:29.989Z"
   },
   {
    "duration": 74,
    "start_time": "2024-09-26T19:17:30.003Z"
   },
   {
    "duration": 73,
    "start_time": "2024-09-26T19:17:30.081Z"
   },
   {
    "duration": 122,
    "start_time": "2024-09-26T19:17:30.156Z"
   },
   {
    "duration": 27,
    "start_time": "2024-09-26T19:17:30.279Z"
   },
   {
    "duration": 22,
    "start_time": "2024-09-26T19:17:30.308Z"
   },
   {
    "duration": 30,
    "start_time": "2024-09-26T19:17:30.332Z"
   },
   {
    "duration": 47,
    "start_time": "2024-09-26T19:17:30.363Z"
   },
   {
    "duration": 30,
    "start_time": "2024-09-26T19:17:30.411Z"
   },
   {
    "duration": 184,
    "start_time": "2024-09-26T19:17:30.443Z"
   },
   {
    "duration": 191,
    "start_time": "2024-09-26T19:17:30.628Z"
   },
   {
    "duration": 0,
    "start_time": "2024-09-26T19:17:30.822Z"
   },
   {
    "duration": 0,
    "start_time": "2024-09-26T19:17:30.823Z"
   },
   {
    "duration": 0,
    "start_time": "2024-09-26T19:17:30.824Z"
   },
   {
    "duration": 0,
    "start_time": "2024-09-26T19:17:30.825Z"
   },
   {
    "duration": 0,
    "start_time": "2024-09-26T19:17:30.826Z"
   },
   {
    "duration": 0,
    "start_time": "2024-09-26T19:17:30.843Z"
   },
   {
    "duration": 0,
    "start_time": "2024-09-26T19:17:30.844Z"
   },
   {
    "duration": 0,
    "start_time": "2024-09-26T19:17:30.846Z"
   },
   {
    "duration": 0,
    "start_time": "2024-09-26T19:17:30.847Z"
   },
   {
    "duration": 0,
    "start_time": "2024-09-26T19:17:30.848Z"
   },
   {
    "duration": 0,
    "start_time": "2024-09-26T19:17:30.849Z"
   },
   {
    "duration": 0,
    "start_time": "2024-09-26T19:17:30.850Z"
   },
   {
    "duration": 0,
    "start_time": "2024-09-26T19:17:30.851Z"
   },
   {
    "duration": 0,
    "start_time": "2024-09-26T19:17:30.852Z"
   },
   {
    "duration": 0,
    "start_time": "2024-09-26T19:17:30.854Z"
   },
   {
    "duration": 0,
    "start_time": "2024-09-26T19:17:30.855Z"
   },
   {
    "duration": 0,
    "start_time": "2024-09-26T19:17:30.856Z"
   },
   {
    "duration": 0,
    "start_time": "2024-09-26T19:17:30.857Z"
   },
   {
    "duration": 0,
    "start_time": "2024-09-26T19:17:30.857Z"
   },
   {
    "duration": 0,
    "start_time": "2024-09-26T19:17:30.858Z"
   },
   {
    "duration": 0,
    "start_time": "2024-09-26T19:17:30.859Z"
   },
   {
    "duration": 0,
    "start_time": "2024-09-26T19:17:30.861Z"
   },
   {
    "duration": 127,
    "start_time": "2024-09-26T19:20:07.375Z"
   },
   {
    "duration": 1137,
    "start_time": "2024-09-26T19:23:49.083Z"
   },
   {
    "duration": 125,
    "start_time": "2024-09-26T19:23:50.222Z"
   },
   {
    "duration": 24,
    "start_time": "2024-09-26T19:23:50.349Z"
   },
   {
    "duration": 6,
    "start_time": "2024-09-26T19:23:50.375Z"
   },
   {
    "duration": 15,
    "start_time": "2024-09-26T19:23:50.383Z"
   },
   {
    "duration": 23,
    "start_time": "2024-09-26T19:23:50.400Z"
   },
   {
    "duration": 856,
    "start_time": "2024-09-26T19:23:50.425Z"
   },
   {
    "duration": 9,
    "start_time": "2024-09-26T19:23:51.283Z"
   },
   {
    "duration": 6,
    "start_time": "2024-09-26T19:23:51.294Z"
   },
   {
    "duration": 23,
    "start_time": "2024-09-26T19:23:51.302Z"
   },
   {
    "duration": 16,
    "start_time": "2024-09-26T19:23:51.327Z"
   },
   {
    "duration": 16,
    "start_time": "2024-09-26T19:23:51.344Z"
   },
   {
    "duration": 12,
    "start_time": "2024-09-26T19:23:51.362Z"
   },
   {
    "duration": 9,
    "start_time": "2024-09-26T19:23:51.378Z"
   },
   {
    "duration": 19,
    "start_time": "2024-09-26T19:23:51.388Z"
   },
   {
    "duration": 43,
    "start_time": "2024-09-26T19:23:51.409Z"
   },
   {
    "duration": 167,
    "start_time": "2024-09-26T19:23:51.454Z"
   },
   {
    "duration": 117,
    "start_time": "2024-09-26T19:23:51.622Z"
   },
   {
    "duration": 229,
    "start_time": "2024-09-26T19:23:51.742Z"
   },
   {
    "duration": 0,
    "start_time": "2024-09-26T19:23:51.973Z"
   },
   {
    "duration": 0,
    "start_time": "2024-09-26T19:23:51.974Z"
   },
   {
    "duration": 0,
    "start_time": "2024-09-26T19:23:51.975Z"
   },
   {
    "duration": 0,
    "start_time": "2024-09-26T19:23:51.977Z"
   },
   {
    "duration": 0,
    "start_time": "2024-09-26T19:23:51.978Z"
   },
   {
    "duration": 0,
    "start_time": "2024-09-26T19:23:51.980Z"
   },
   {
    "duration": 0,
    "start_time": "2024-09-26T19:23:51.981Z"
   },
   {
    "duration": 0,
    "start_time": "2024-09-26T19:23:51.983Z"
   },
   {
    "duration": 0,
    "start_time": "2024-09-26T19:23:51.984Z"
   },
   {
    "duration": 0,
    "start_time": "2024-09-26T19:23:51.985Z"
   },
   {
    "duration": 0,
    "start_time": "2024-09-26T19:23:51.987Z"
   },
   {
    "duration": 0,
    "start_time": "2024-09-26T19:23:51.988Z"
   },
   {
    "duration": 0,
    "start_time": "2024-09-26T19:23:51.989Z"
   },
   {
    "duration": 0,
    "start_time": "2024-09-26T19:23:51.990Z"
   },
   {
    "duration": 0,
    "start_time": "2024-09-26T19:23:51.991Z"
   },
   {
    "duration": 0,
    "start_time": "2024-09-26T19:23:51.992Z"
   },
   {
    "duration": 0,
    "start_time": "2024-09-26T19:23:51.993Z"
   },
   {
    "duration": 0,
    "start_time": "2024-09-26T19:23:51.994Z"
   },
   {
    "duration": 0,
    "start_time": "2024-09-26T19:23:51.995Z"
   },
   {
    "duration": 0,
    "start_time": "2024-09-26T19:23:51.996Z"
   },
   {
    "duration": 0,
    "start_time": "2024-09-26T19:23:51.997Z"
   },
   {
    "duration": 175,
    "start_time": "2024-09-26T19:24:16.908Z"
   },
   {
    "duration": 241,
    "start_time": "2024-09-26T19:24:22.066Z"
   },
   {
    "duration": 183,
    "start_time": "2024-09-26T19:24:30.525Z"
   },
   {
    "duration": 12,
    "start_time": "2024-09-26T19:25:04.731Z"
   },
   {
    "duration": 226,
    "start_time": "2024-09-26T19:25:35.484Z"
   },
   {
    "duration": 171,
    "start_time": "2024-09-26T19:25:43.267Z"
   },
   {
    "duration": 178,
    "start_time": "2024-09-26T19:25:52.231Z"
   },
   {
    "duration": 186,
    "start_time": "2024-09-26T19:25:58.534Z"
   },
   {
    "duration": 12,
    "start_time": "2024-09-26T19:26:15.198Z"
   },
   {
    "duration": 203,
    "start_time": "2024-09-26T19:26:39.817Z"
   },
   {
    "duration": 178,
    "start_time": "2024-09-26T19:27:19.748Z"
   },
   {
    "duration": 160,
    "start_time": "2024-09-26T19:27:25.298Z"
   },
   {
    "duration": 181,
    "start_time": "2024-09-26T19:27:32.505Z"
   },
   {
    "duration": 309,
    "start_time": "2024-09-26T19:27:39.801Z"
   },
   {
    "duration": 190,
    "start_time": "2024-09-26T19:27:45.500Z"
   },
   {
    "duration": 165,
    "start_time": "2024-09-26T19:27:58.114Z"
   },
   {
    "duration": 205,
    "start_time": "2024-09-26T19:28:04.665Z"
   },
   {
    "duration": 178,
    "start_time": "2024-09-26T19:28:12.557Z"
   },
   {
    "duration": 156,
    "start_time": "2024-09-26T19:28:33.893Z"
   },
   {
    "duration": 132,
    "start_time": "2024-09-26T19:28:44.934Z"
   },
   {
    "duration": 128,
    "start_time": "2024-09-26T19:28:51.481Z"
   },
   {
    "duration": 134,
    "start_time": "2024-09-26T19:29:00.047Z"
   },
   {
    "duration": 365,
    "start_time": "2024-09-26T19:29:17.078Z"
   },
   {
    "duration": 453,
    "start_time": "2024-09-26T19:29:28.514Z"
   },
   {
    "duration": 419,
    "start_time": "2024-09-26T19:29:35.680Z"
   },
   {
    "duration": 504,
    "start_time": "2024-09-26T19:29:42.946Z"
   },
   {
    "duration": 459,
    "start_time": "2024-09-26T19:29:48.097Z"
   },
   {
    "duration": 481,
    "start_time": "2024-09-26T19:29:52.149Z"
   },
   {
    "duration": 556,
    "start_time": "2024-09-26T19:29:59.685Z"
   },
   {
    "duration": 486,
    "start_time": "2024-09-26T19:30:06.863Z"
   },
   {
    "duration": 28,
    "start_time": "2024-09-26T19:30:14.714Z"
   },
   {
    "duration": 15,
    "start_time": "2024-09-26T19:30:16.850Z"
   },
   {
    "duration": 11,
    "start_time": "2024-09-26T19:30:18.081Z"
   },
   {
    "duration": 31,
    "start_time": "2024-09-26T19:30:18.613Z"
   },
   {
    "duration": 8,
    "start_time": "2024-09-26T19:30:19.134Z"
   },
   {
    "duration": 28,
    "start_time": "2024-09-26T19:30:19.600Z"
   },
   {
    "duration": 334,
    "start_time": "2024-09-26T19:30:20.557Z"
   },
   {
    "duration": 356,
    "start_time": "2024-09-26T19:30:29.099Z"
   },
   {
    "duration": 385,
    "start_time": "2024-09-26T19:30:35.838Z"
   },
   {
    "duration": 363,
    "start_time": "2024-09-26T19:30:45.484Z"
   },
   {
    "duration": 36,
    "start_time": "2024-09-26T19:30:51.347Z"
   },
   {
    "duration": 154,
    "start_time": "2024-09-26T19:30:51.840Z"
   },
   {
    "duration": 34,
    "start_time": "2024-09-26T19:30:52.831Z"
   },
   {
    "duration": 9,
    "start_time": "2024-09-26T19:30:53.416Z"
   },
   {
    "duration": 8,
    "start_time": "2024-09-26T19:30:55.583Z"
   },
   {
    "duration": 7,
    "start_time": "2024-09-26T19:30:57.232Z"
   },
   {
    "duration": 12,
    "start_time": "2024-09-26T19:30:58.604Z"
   },
   {
    "duration": 400,
    "start_time": "2024-09-26T19:31:01.232Z"
   },
   {
    "duration": 3,
    "start_time": "2024-09-26T19:31:01.689Z"
   },
   {
    "duration": 263,
    "start_time": "2024-09-26T19:31:18.301Z"
   },
   {
    "duration": 5,
    "start_time": "2024-09-26T19:31:35.098Z"
   },
   {
    "duration": 1240,
    "start_time": "2024-09-27T16:32:19.640Z"
   },
   {
    "duration": 444,
    "start_time": "2024-09-27T16:32:20.882Z"
   },
   {
    "duration": 34,
    "start_time": "2024-09-27T16:32:21.327Z"
   },
   {
    "duration": 7,
    "start_time": "2024-09-27T16:32:21.363Z"
   },
   {
    "duration": 8,
    "start_time": "2024-09-27T16:32:21.372Z"
   },
   {
    "duration": 7,
    "start_time": "2024-09-27T16:32:21.382Z"
   },
   {
    "duration": 859,
    "start_time": "2024-09-27T16:32:21.391Z"
   },
   {
    "duration": 9,
    "start_time": "2024-09-27T16:32:22.251Z"
   },
   {
    "duration": 10,
    "start_time": "2024-09-27T16:32:22.261Z"
   },
   {
    "duration": 9,
    "start_time": "2024-09-27T16:32:22.273Z"
   },
   {
    "duration": 5,
    "start_time": "2024-09-27T16:32:22.283Z"
   },
   {
    "duration": 42,
    "start_time": "2024-09-27T16:32:22.290Z"
   },
   {
    "duration": 14,
    "start_time": "2024-09-27T16:32:22.334Z"
   },
   {
    "duration": 11,
    "start_time": "2024-09-27T16:32:22.349Z"
   },
   {
    "duration": 19,
    "start_time": "2024-09-27T16:32:22.362Z"
   },
   {
    "duration": 48,
    "start_time": "2024-09-27T16:32:22.383Z"
   },
   {
    "duration": 208,
    "start_time": "2024-09-27T16:32:22.433Z"
   },
   {
    "duration": 148,
    "start_time": "2024-09-27T16:32:22.643Z"
   },
   {
    "duration": 381,
    "start_time": "2024-09-27T16:32:22.793Z"
   },
   {
    "duration": 660,
    "start_time": "2024-09-27T16:32:23.176Z"
   },
   {
    "duration": 489,
    "start_time": "2024-09-27T16:32:23.838Z"
   },
   {
    "duration": 31,
    "start_time": "2024-09-27T16:32:24.329Z"
   },
   {
    "duration": 16,
    "start_time": "2024-09-27T16:32:24.362Z"
   },
   {
    "duration": 13,
    "start_time": "2024-09-27T16:32:24.380Z"
   },
   {
    "duration": 62,
    "start_time": "2024-09-27T16:32:24.395Z"
   },
   {
    "duration": 8,
    "start_time": "2024-09-27T16:32:24.459Z"
   },
   {
    "duration": 30,
    "start_time": "2024-09-27T16:32:24.469Z"
   },
   {
    "duration": 366,
    "start_time": "2024-09-27T16:32:24.525Z"
   },
   {
    "duration": 374,
    "start_time": "2024-09-27T16:32:24.893Z"
   },
   {
    "duration": 41,
    "start_time": "2024-09-27T16:32:25.269Z"
   },
   {
    "duration": 34,
    "start_time": "2024-09-27T16:32:25.326Z"
   },
   {
    "duration": 38,
    "start_time": "2024-09-27T16:32:25.362Z"
   },
   {
    "duration": 28,
    "start_time": "2024-09-27T16:32:25.402Z"
   },
   {
    "duration": 8,
    "start_time": "2024-09-27T16:32:25.432Z"
   },
   {
    "duration": 6,
    "start_time": "2024-09-27T16:32:25.442Z"
   },
   {
    "duration": 13,
    "start_time": "2024-09-27T16:32:25.450Z"
   },
   {
    "duration": 464,
    "start_time": "2024-09-27T16:32:25.464Z"
   },
   {
    "duration": 3,
    "start_time": "2024-09-27T16:32:25.930Z"
   },
   {
    "duration": 374,
    "start_time": "2024-09-27T16:32:25.935Z"
   },
   {
    "duration": 5,
    "start_time": "2024-09-27T16:32:26.311Z"
   },
   {
    "duration": 7,
    "start_time": "2024-09-27T16:36:10.493Z"
   },
   {
    "duration": 459,
    "start_time": "2024-09-28T06:33:50.587Z"
   },
   {
    "duration": 60,
    "start_time": "2024-09-28T06:35:08.600Z"
   },
   {
    "duration": 7,
    "start_time": "2024-09-28T06:37:16.337Z"
   },
   {
    "duration": 1277,
    "start_time": "2024-09-28T06:37:34.100Z"
   },
   {
    "duration": 350,
    "start_time": "2024-09-28T06:37:35.379Z"
   },
   {
    "duration": 26,
    "start_time": "2024-09-28T06:37:35.731Z"
   },
   {
    "duration": 6,
    "start_time": "2024-09-28T06:37:35.759Z"
   },
   {
    "duration": 17,
    "start_time": "2024-09-28T06:37:35.766Z"
   },
   {
    "duration": 20,
    "start_time": "2024-09-28T06:37:35.784Z"
   },
   {
    "duration": 822,
    "start_time": "2024-09-28T06:37:35.805Z"
   },
   {
    "duration": 8,
    "start_time": "2024-09-28T06:37:36.629Z"
   },
   {
    "duration": 18,
    "start_time": "2024-09-28T06:37:36.638Z"
   },
   {
    "duration": 8,
    "start_time": "2024-09-28T06:37:36.657Z"
   },
   {
    "duration": 9,
    "start_time": "2024-09-28T06:37:36.666Z"
   },
   {
    "duration": 14,
    "start_time": "2024-09-28T06:37:36.676Z"
   },
   {
    "duration": 13,
    "start_time": "2024-09-28T06:37:36.692Z"
   },
   {
    "duration": 8,
    "start_time": "2024-09-28T06:37:36.708Z"
   },
   {
    "duration": 39,
    "start_time": "2024-09-28T06:37:36.718Z"
   },
   {
    "duration": 20,
    "start_time": "2024-09-28T06:37:36.758Z"
   },
   {
    "duration": 206,
    "start_time": "2024-09-28T06:37:36.780Z"
   },
   {
    "duration": 135,
    "start_time": "2024-09-28T06:37:36.988Z"
   },
   {
    "duration": 416,
    "start_time": "2024-09-28T06:37:37.124Z"
   },
   {
    "duration": 598,
    "start_time": "2024-09-28T06:37:37.542Z"
   },
   {
    "duration": 510,
    "start_time": "2024-09-28T06:37:38.141Z"
   },
   {
    "duration": 26,
    "start_time": "2024-09-28T06:37:38.653Z"
   },
   {
    "duration": 14,
    "start_time": "2024-09-28T06:37:38.681Z"
   },
   {
    "duration": 11,
    "start_time": "2024-09-28T06:37:38.697Z"
   },
   {
    "duration": 61,
    "start_time": "2024-09-28T06:37:38.710Z"
   },
   {
    "duration": 9,
    "start_time": "2024-09-28T06:37:38.773Z"
   },
   {
    "duration": 30,
    "start_time": "2024-09-28T06:37:38.784Z"
   },
   {
    "duration": 370,
    "start_time": "2024-09-28T06:37:38.816Z"
   },
   {
    "duration": 356,
    "start_time": "2024-09-28T06:37:39.188Z"
   },
   {
    "duration": 38,
    "start_time": "2024-09-28T06:37:39.546Z"
   },
   {
    "duration": 30,
    "start_time": "2024-09-28T06:37:39.586Z"
   },
   {
    "duration": 69,
    "start_time": "2024-09-28T06:37:39.617Z"
   },
   {
    "duration": 11,
    "start_time": "2024-09-28T06:37:39.688Z"
   },
   {
    "duration": 10,
    "start_time": "2024-09-28T06:37:39.700Z"
   },
   {
    "duration": 6,
    "start_time": "2024-09-28T06:37:39.711Z"
   },
   {
    "duration": 35,
    "start_time": "2024-09-28T06:37:39.719Z"
   },
   {
    "duration": 453,
    "start_time": "2024-09-28T06:37:39.756Z"
   },
   {
    "duration": 4,
    "start_time": "2024-09-28T06:37:40.210Z"
   },
   {
    "duration": 374,
    "start_time": "2024-09-28T06:37:40.216Z"
   },
   {
    "duration": 5,
    "start_time": "2024-09-28T06:37:40.592Z"
   },
   {
    "duration": 191,
    "start_time": "2024-09-28T06:38:40.108Z"
   },
   {
    "duration": 98,
    "start_time": "2024-09-28T06:41:35.635Z"
   },
   {
    "duration": 9,
    "start_time": "2024-09-28T06:42:08.400Z"
   },
   {
    "duration": 3,
    "start_time": "2024-09-28T06:42:14.762Z"
   },
   {
    "duration": 4,
    "start_time": "2024-09-28T06:42:27.663Z"
   },
   {
    "duration": 5,
    "start_time": "2024-09-28T06:42:40.391Z"
   },
   {
    "duration": 21,
    "start_time": "2024-09-28T06:44:14.824Z"
   },
   {
    "duration": 14,
    "start_time": "2024-09-28T06:44:58.775Z"
   },
   {
    "duration": 12,
    "start_time": "2024-09-28T06:46:05.049Z"
   },
   {
    "duration": 9,
    "start_time": "2024-09-28T06:46:28.982Z"
   },
   {
    "duration": 12,
    "start_time": "2024-09-28T06:46:40.431Z"
   },
   {
    "duration": 198,
    "start_time": "2024-09-28T06:46:52.022Z"
   },
   {
    "duration": 15,
    "start_time": "2024-09-28T06:47:22.511Z"
   },
   {
    "duration": 4,
    "start_time": "2024-09-28T06:48:59.161Z"
   },
   {
    "duration": 4,
    "start_time": "2024-09-28T06:49:19.913Z"
   },
   {
    "duration": 6,
    "start_time": "2024-09-28T06:49:33.109Z"
   },
   {
    "duration": 190,
    "start_time": "2024-09-28T06:50:08.275Z"
   },
   {
    "duration": 10,
    "start_time": "2024-09-28T06:52:23.153Z"
   },
   {
    "duration": 8,
    "start_time": "2024-09-28T06:52:34.456Z"
   },
   {
    "duration": 11,
    "start_time": "2024-09-28T06:52:43.012Z"
   },
   {
    "duration": 16,
    "start_time": "2024-09-28T06:53:14.881Z"
   },
   {
    "duration": 11,
    "start_time": "2024-09-28T06:53:25.145Z"
   },
   {
    "duration": 14,
    "start_time": "2024-09-28T06:53:52.890Z"
   },
   {
    "duration": 15,
    "start_time": "2024-09-28T06:54:14.249Z"
   },
   {
    "duration": 14,
    "start_time": "2024-09-28T06:54:23.294Z"
   },
   {
    "duration": 200,
    "start_time": "2024-09-28T06:54:57.813Z"
   },
   {
    "duration": 172,
    "start_time": "2024-09-28T06:55:41.325Z"
   },
   {
    "duration": 182,
    "start_time": "2024-09-28T06:58:43.785Z"
   },
   {
    "duration": 179,
    "start_time": "2024-09-28T06:58:51.335Z"
   },
   {
    "duration": 4,
    "start_time": "2024-09-28T07:07:56.570Z"
   },
   {
    "duration": 6,
    "start_time": "2024-09-28T07:08:03.558Z"
   },
   {
    "duration": 151,
    "start_time": "2024-09-28T07:09:30.930Z"
   },
   {
    "duration": 181,
    "start_time": "2024-09-28T07:10:13.499Z"
   },
   {
    "duration": 73,
    "start_time": "2024-09-28T07:13:19.855Z"
   },
   {
    "duration": 129,
    "start_time": "2024-09-28T07:17:37.703Z"
   },
   {
    "duration": 135,
    "start_time": "2024-09-28T07:17:49.755Z"
   },
   {
    "duration": 152,
    "start_time": "2024-09-28T07:18:32.176Z"
   },
   {
    "duration": 6,
    "start_time": "2024-09-28T07:18:58.331Z"
   },
   {
    "duration": 52,
    "start_time": "2024-09-28T07:19:21.551Z"
   },
   {
    "duration": 1108,
    "start_time": "2024-09-28T08:11:10.160Z"
   },
   {
    "duration": 122,
    "start_time": "2024-09-28T08:11:11.269Z"
   },
   {
    "duration": 25,
    "start_time": "2024-09-28T08:11:11.392Z"
   },
   {
    "duration": 5,
    "start_time": "2024-09-28T08:11:11.419Z"
   },
   {
    "duration": 8,
    "start_time": "2024-09-28T08:11:11.425Z"
   },
   {
    "duration": 20,
    "start_time": "2024-09-28T08:11:11.434Z"
   },
   {
    "duration": 968,
    "start_time": "2024-09-28T08:11:11.455Z"
   },
   {
    "duration": 8,
    "start_time": "2024-09-28T08:11:12.424Z"
   },
   {
    "duration": 15,
    "start_time": "2024-09-28T08:11:12.433Z"
   },
   {
    "duration": 7,
    "start_time": "2024-09-28T08:11:12.453Z"
   },
   {
    "duration": 4,
    "start_time": "2024-09-28T08:11:12.462Z"
   },
   {
    "duration": 15,
    "start_time": "2024-09-28T08:11:12.467Z"
   },
   {
    "duration": 12,
    "start_time": "2024-09-28T08:11:12.483Z"
   },
   {
    "duration": 9,
    "start_time": "2024-09-28T08:11:12.497Z"
   },
   {
    "duration": 47,
    "start_time": "2024-09-28T08:11:12.507Z"
   },
   {
    "duration": 21,
    "start_time": "2024-09-28T08:11:12.555Z"
   },
   {
    "duration": 193,
    "start_time": "2024-09-28T08:11:12.578Z"
   },
   {
    "duration": 5,
    "start_time": "2024-09-28T08:11:12.773Z"
   },
   {
    "duration": 62,
    "start_time": "2024-09-28T08:11:12.780Z"
   },
   {
    "duration": 367,
    "start_time": "2024-09-28T08:11:12.853Z"
   },
   {
    "duration": 635,
    "start_time": "2024-09-28T08:11:13.222Z"
   },
   {
    "duration": 494,
    "start_time": "2024-09-28T08:11:13.858Z"
   },
   {
    "duration": 28,
    "start_time": "2024-09-28T08:11:14.354Z"
   },
   {
    "duration": 14,
    "start_time": "2024-09-28T08:11:14.384Z"
   },
   {
    "duration": 19,
    "start_time": "2024-09-28T08:11:14.399Z"
   },
   {
    "duration": 44,
    "start_time": "2024-09-28T08:11:14.420Z"
   },
   {
    "duration": 9,
    "start_time": "2024-09-28T08:11:14.466Z"
   },
   {
    "duration": 38,
    "start_time": "2024-09-28T08:11:14.479Z"
   },
   {
    "duration": 368,
    "start_time": "2024-09-28T08:11:14.519Z"
   },
   {
    "duration": 366,
    "start_time": "2024-09-28T08:11:14.889Z"
   },
   {
    "duration": 38,
    "start_time": "2024-09-28T08:11:15.257Z"
   },
   {
    "duration": 31,
    "start_time": "2024-09-28T08:11:15.296Z"
   },
   {
    "duration": 58,
    "start_time": "2024-09-28T08:11:15.328Z"
   },
   {
    "duration": 10,
    "start_time": "2024-09-28T08:11:15.387Z"
   },
   {
    "duration": 10,
    "start_time": "2024-09-28T08:11:15.399Z"
   },
   {
    "duration": 35,
    "start_time": "2024-09-28T08:11:15.410Z"
   },
   {
    "duration": 30,
    "start_time": "2024-09-28T08:11:15.446Z"
   },
   {
    "duration": 416,
    "start_time": "2024-09-28T08:11:15.477Z"
   },
   {
    "duration": 4,
    "start_time": "2024-09-28T08:11:15.895Z"
   },
   {
    "duration": 395,
    "start_time": "2024-09-28T08:11:15.901Z"
   },
   {
    "duration": 6,
    "start_time": "2024-09-28T08:11:16.298Z"
   },
   {
    "duration": 64,
    "start_time": "2024-09-28T08:11:27.126Z"
   },
   {
    "duration": 75,
    "start_time": "2024-09-28T08:11:47.895Z"
   },
   {
    "duration": 86,
    "start_time": "2024-09-28T08:15:12.883Z"
   },
   {
    "duration": 66,
    "start_time": "2024-09-28T08:15:57.070Z"
   },
   {
    "duration": 213,
    "start_time": "2024-09-28T08:17:35.718Z"
   },
   {
    "duration": 61,
    "start_time": "2024-09-28T08:17:55.358Z"
   },
   {
    "duration": 59,
    "start_time": "2024-09-28T08:18:21.276Z"
   },
   {
    "duration": 153,
    "start_time": "2024-09-28T08:19:05.544Z"
   },
   {
    "duration": 76,
    "start_time": "2024-09-28T08:19:12.833Z"
   },
   {
    "duration": 60,
    "start_time": "2024-09-28T08:19:20.072Z"
   },
   {
    "duration": 83,
    "start_time": "2024-09-28T08:19:25.291Z"
   },
   {
    "duration": 129,
    "start_time": "2024-09-28T08:21:33.512Z"
   },
   {
    "duration": 82,
    "start_time": "2024-09-28T08:27:34.292Z"
   },
   {
    "duration": 71,
    "start_time": "2024-09-28T08:28:20.588Z"
   },
   {
    "duration": 73,
    "start_time": "2024-09-28T08:28:36.656Z"
   },
   {
    "duration": 167,
    "start_time": "2024-09-28T08:28:42.888Z"
   },
   {
    "duration": 73,
    "start_time": "2024-09-28T08:30:06.557Z"
   },
   {
    "duration": 76,
    "start_time": "2024-09-28T08:30:13.863Z"
   },
   {
    "duration": 84,
    "start_time": "2024-09-28T08:30:28.587Z"
   },
   {
    "duration": 76,
    "start_time": "2024-09-28T08:32:02.729Z"
   },
   {
    "duration": 76,
    "start_time": "2024-09-28T08:32:06.690Z"
   },
   {
    "duration": 79,
    "start_time": "2024-09-28T08:32:14.461Z"
   },
   {
    "duration": 79,
    "start_time": "2024-09-28T08:35:53.889Z"
   },
   {
    "duration": 85,
    "start_time": "2024-09-28T08:35:58.335Z"
   },
   {
    "duration": 77,
    "start_time": "2024-09-28T08:36:07.053Z"
   },
   {
    "duration": 72,
    "start_time": "2024-09-28T08:37:12.942Z"
   },
   {
    "duration": 95,
    "start_time": "2024-09-28T08:40:58.105Z"
   },
   {
    "duration": 78,
    "start_time": "2024-09-28T08:41:01.853Z"
   },
   {
    "duration": 86,
    "start_time": "2024-09-28T08:41:07.901Z"
   },
   {
    "duration": 82,
    "start_time": "2024-09-28T08:41:28.802Z"
   },
   {
    "duration": 76,
    "start_time": "2024-09-28T08:44:58.832Z"
   },
   {
    "duration": 68,
    "start_time": "2024-09-28T08:45:37.176Z"
   },
   {
    "duration": 72,
    "start_time": "2024-09-28T08:45:46.700Z"
   },
   {
    "duration": 82,
    "start_time": "2024-09-28T08:47:17.883Z"
   },
   {
    "duration": 75,
    "start_time": "2024-09-28T08:47:30.982Z"
   },
   {
    "duration": 79,
    "start_time": "2024-09-28T08:47:47.567Z"
   },
   {
    "duration": 80,
    "start_time": "2024-09-28T08:48:04.583Z"
   },
   {
    "duration": 169,
    "start_time": "2024-09-28T08:48:21.316Z"
   },
   {
    "duration": 127,
    "start_time": "2024-09-28T08:48:44.691Z"
   },
   {
    "duration": 74,
    "start_time": "2024-09-28T08:49:38.752Z"
   },
   {
    "duration": 80,
    "start_time": "2024-09-28T08:52:06.331Z"
   },
   {
    "duration": 74,
    "start_time": "2024-09-28T08:53:06.214Z"
   },
   {
    "duration": 8,
    "start_time": "2024-09-28T08:54:40.148Z"
   },
   {
    "duration": 60,
    "start_time": "2024-09-28T08:55:14.663Z"
   },
   {
    "duration": 39,
    "start_time": "2024-09-28T09:02:42.628Z"
   },
   {
    "duration": 33,
    "start_time": "2024-09-28T09:03:04.561Z"
   },
   {
    "duration": 35,
    "start_time": "2024-09-28T09:03:06.845Z"
   },
   {
    "duration": 1427,
    "start_time": "2024-09-28T09:03:11.833Z"
   },
   {
    "duration": 122,
    "start_time": "2024-09-28T09:03:13.261Z"
   },
   {
    "duration": 25,
    "start_time": "2024-09-28T09:03:13.385Z"
   },
   {
    "duration": 6,
    "start_time": "2024-09-28T09:03:13.411Z"
   },
   {
    "duration": 21,
    "start_time": "2024-09-28T09:03:13.418Z"
   },
   {
    "duration": 13,
    "start_time": "2024-09-28T09:03:13.440Z"
   },
   {
    "duration": 864,
    "start_time": "2024-09-28T09:03:13.455Z"
   },
   {
    "duration": 8,
    "start_time": "2024-09-28T09:03:14.321Z"
   },
   {
    "duration": 5,
    "start_time": "2024-09-28T09:03:14.330Z"
   },
   {
    "duration": 23,
    "start_time": "2024-09-28T09:03:14.337Z"
   },
   {
    "duration": 4,
    "start_time": "2024-09-28T09:03:14.361Z"
   },
   {
    "duration": 16,
    "start_time": "2024-09-28T09:03:14.366Z"
   },
   {
    "duration": 12,
    "start_time": "2024-09-28T09:03:14.383Z"
   },
   {
    "duration": 9,
    "start_time": "2024-09-28T09:03:14.397Z"
   },
   {
    "duration": 13,
    "start_time": "2024-09-28T09:03:14.407Z"
   },
   {
    "duration": 25,
    "start_time": "2024-09-28T09:03:14.454Z"
   },
   {
    "duration": 190,
    "start_time": "2024-09-28T09:03:14.481Z"
   },
   {
    "duration": 85,
    "start_time": "2024-09-28T09:03:14.672Z"
   },
   {
    "duration": 371,
    "start_time": "2024-09-28T09:03:14.759Z"
   },
   {
    "duration": 8,
    "start_time": "2024-09-28T09:03:15.132Z"
   },
   {
    "duration": 612,
    "start_time": "2024-09-28T09:03:15.141Z"
   },
   {
    "duration": 493,
    "start_time": "2024-09-28T09:03:15.755Z"
   },
   {
    "duration": 31,
    "start_time": "2024-09-28T09:03:16.250Z"
   },
   {
    "duration": 48,
    "start_time": "2024-09-28T09:03:16.283Z"
   },
   {
    "duration": 34,
    "start_time": "2024-09-28T09:03:16.333Z"
   },
   {
    "duration": 50,
    "start_time": "2024-09-28T09:03:16.368Z"
   },
   {
    "duration": 8,
    "start_time": "2024-09-28T09:03:16.420Z"
   },
   {
    "duration": 36,
    "start_time": "2024-09-28T09:03:16.431Z"
   },
   {
    "duration": 370,
    "start_time": "2024-09-28T09:03:16.468Z"
   },
   {
    "duration": 355,
    "start_time": "2024-09-28T09:03:16.839Z"
   },
   {
    "duration": 43,
    "start_time": "2024-09-28T09:03:17.196Z"
   },
   {
    "duration": 49,
    "start_time": "2024-09-28T09:03:17.241Z"
   },
   {
    "duration": 34,
    "start_time": "2024-09-28T09:03:17.292Z"
   },
   {
    "duration": 26,
    "start_time": "2024-09-28T09:03:17.328Z"
   },
   {
    "duration": 8,
    "start_time": "2024-09-28T09:03:17.355Z"
   },
   {
    "duration": 23,
    "start_time": "2024-09-28T09:03:17.364Z"
   },
   {
    "duration": 23,
    "start_time": "2024-09-28T09:03:17.389Z"
   },
   {
    "duration": 430,
    "start_time": "2024-09-28T09:03:17.413Z"
   },
   {
    "duration": 8,
    "start_time": "2024-09-28T09:03:17.844Z"
   },
   {
    "duration": 366,
    "start_time": "2024-09-28T09:03:17.854Z"
   },
   {
    "duration": 5,
    "start_time": "2024-09-28T09:03:18.221Z"
   },
   {
    "duration": 36,
    "start_time": "2024-09-28T09:04:09.817Z"
   },
   {
    "duration": 6,
    "start_time": "2024-09-28T09:06:44.603Z"
   },
   {
    "duration": 92,
    "start_time": "2024-09-28T09:17:03.634Z"
   }
  ],
  "kernelspec": {
   "display_name": "practicum",
   "language": "python",
   "name": "python3"
  },
  "language_info": {
   "codemirror_mode": {
    "name": "ipython",
    "version": 3
   },
   "file_extension": ".py",
   "mimetype": "text/x-python",
   "name": "python",
   "nbconvert_exporter": "python",
   "pygments_lexer": "ipython3",
   "version": "3.11.9"
  },
  "toc": {
   "base_numbering": 1,
   "nav_menu": {},
   "number_sections": true,
   "sideBar": true,
   "skip_h1_title": true,
   "title_cell": "Table of Contents",
   "title_sidebar": "Contents",
   "toc_cell": false,
   "toc_position": {
    "height": "calc(100% - 180px)",
    "left": "10px",
    "top": "150px",
    "width": "288px"
   },
   "toc_section_display": true,
   "toc_window_display": true
  }
 },
 "nbformat": 4,
 "nbformat_minor": 5
}
